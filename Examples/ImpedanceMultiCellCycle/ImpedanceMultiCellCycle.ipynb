{
 "cells": [
  {
   "cell_type": "markdown",
   "id": "9fd5451a-e27b-47f5-bc5f-f38407b0df0e",
   "metadata": {},
   "source": [
    "# Multichannel operation with EIS\n",
    "\n",
    "This notebook is an example in which [external potentiostats](http://zahner.de/products/external-potentiostats.html) such as PP2x2 and XPOT2 are controlled both standalone and as an EPC device on a [Zennium series instrument](http://zahner.de/products/electrochemical-workstation.html). Up to 16 external potentiostats can share one Zennium to use it for impedance measurements for example.\n",
    "\n",
    "This notebook cannot be executed and has been created only for documentation and explanation of the source code. The epc_scpi_handler.py file contains the required classes for this example.\n",
    "\n",
    "Knowledge of all other notebooks of this repository, the [Remote2 manual](http://zahner.de/pdf/Remote2.pdf) and control with the [Thales Remote Python library](https://github.com/Zahner-elektrik/Thales-Remote-Python) for Remote2 is assumed as known.\n",
    "\n",
    "For this example a Zennium with [EPC card](http://zahner.de/products/addon-cards/epc42.html) is necessary, to this EPC card the external potentiostats must be connected with the appropriate cable, this can be read in the [manual](http://zahner.de/files/power_potentiostats.pdf). A maximum of 4 potentiostats per card and a maximum of 4 cards are possible.  \n",
    "The external potentiostats and the Zennium must also be connected to the computer via USB cable separately.\n",
    "\n",
    "In this example, a PP242 and an XPOT2 are used to cyclically charge and discharge capacitors, and after a defined number of cycles, impedance is measured with the Zennium via the EPC interface.\n",
    "\n",
    "Each external potentiostat needs its own thread in which the measurement sequence is programmed.  \n",
    "The shared Zennium is synchronized with a [Lock object](https://docs.python.org/3/library/threading.html#lock-objects).\n",
    "<div class=\"alert alert-block alert-warning\">\n",
    "    <b>Only one potentiostat, i.e. thread, can access the Zennium at a time.</b>\n",
    "</div>"
   ]
  },
  {
   "cell_type": "code",
   "execution_count": null,
   "id": "267c073d-96d2-4b9f-8fdc-76f5013c6090",
   "metadata": {},
   "outputs": [],
   "source": [
    "from epc_scpi_handler import EpcScpiHandlerFactory,EpcScpiHandler\n",
    "\n",
    "from thales_remote.script_wrapper import PotentiostatMode\n",
    "from zahner_potentiostat.scpi_control.datahandler import DataManager\n",
    "from zahner_potentiostat.display.onlinedisplay import OnlineDisplay\n",
    "\n",
    "import threading\n",
    "from datetime import datetime\n",
    "\n",
    "from jupyter_utils import executionInNotebook, notebookCodeToPython"
   ]
  },
  {
   "cell_type": "markdown",
   "id": "71e4ec65-791e-4e6d-9773-484759ecb257",
   "metadata": {},
   "source": [
    "# Help function for naming\n",
    "\n",
    "This function simplifies the naming of the cells/channels."
   ]
  },
  {
   "cell_type": "code",
   "execution_count": null,
   "id": "a46c10df-c39b-4095-9e70-0011f524dd96",
   "metadata": {},
   "outputs": [],
   "source": [
    "def getFileName(channel,cycle):\n",
    "    string = str(datetime.now().time())\n",
    "    string = string.replace(\":\",\"\")\n",
    "    string = string.replace(\",\",\"\")\n",
    "    string = string.replace(\".\",\"\")\n",
    "    string = \"channel\" + str(channel) + \"_cycle\" + str(cycle) # + string\n",
    "    return string"
   ]
  },
  {
   "cell_type": "markdown",
   "id": "99d01698-083e-4174-8ce0-829ff601acff",
   "metadata": {},
   "source": [
    "# Thread for channel 1\n",
    "\n",
    "The following function is executed as a thread for channel one.\n",
    "The same function could also be executed as a thread for each channel, but here different sequences are to be measured with each external potentiostat, therefore two different functions are used.\n",
    "\n",
    "Only the first thread is explained in more detail, the second thread is only slightly different from the first thread.\n",
    "\n",
    "The threads unfortunately have to be defined before the main function, where the initialization of the different devices takes place and EpcScpiHandler objects are created for each external potentiostat.\n",
    "\n",
    "An EpcScpiHandler object is then passed to the respective thread as a parameter, so that the thread can work with this object and the measurement process can be programmed.  \n",
    "Using this concept it is also possible to use the same function several times as thread, if all channels should do the same. For this example channel1Thread() can be passed a number for the naming of the measurement results."
   ]
  },
  {
   "cell_type": "code",
   "execution_count": null,
   "id": "e7fce540-9544-4eb1-9cfc-9180c0cf04d7",
   "metadata": {},
   "outputs": [],
   "source": [
    "def channel1Thread(deviceHandler, channel = 0):\n",
    "    deviceHandler.scpiInterface.setMaximumTimeParameter(15)\n",
    "    \n",
    "    for i in range(3):\n",
    "        filename = getFileName(channel = channel, cycle = i)      "
   ]
  },
  {
   "cell_type": "markdown",
   "id": "8dd9502c-2dad-4bcd-8199-6a786bc50613",
   "metadata": {},
   "source": [
    "First the device is in SCPI standalone mode and a capacitor is charged and discharged 2 times in standalone mode.\n",
    "\n",
    "During the measurement, the online display is also started for visualization of voltage and current."
   ]
  },
  {
   "cell_type": "code",
   "execution_count": null,
   "id": "d56cfb9e-1f56-491f-9aec-2c1d60d83dd5",
   "metadata": {},
   "outputs": [],
   "source": [
    "        onlineDisplay = OnlineDisplay(deviceHandler.scpiInterface.getDataReceiver())\n",
    "        \n",
    "        deviceHandler.scpiInterface.measureOCVScan()\n",
    "        \n",
    "        for n in range(2):\n",
    "            deviceHandler.scpiInterface.measureCharge(current = 1e-3,\n",
    "                                                      stopVoltage = 2,\n",
    "                                                      maximumTime = \"5 min\")\n",
    "            \n",
    "            deviceHandler.scpiInterface.measureDischarge(current = -1e-3,\n",
    "                                                         stopVoltage = 0.5,\n",
    "                                                         maximumTime = \"5 min\")"
   ]
  },
  {
   "cell_type": "markdown",
   "id": "ed5eb36a-0cec-4bb9-97c5-03293d9230be",
   "metadata": {},
   "source": [
    "After cycling, the EPC mode must be activated in order to control the potentiostat as an EPC device with the Zennium. For this purpose the lock must be aquired.  \n",
    "In order to be able to continue measuring the OCP, the lock is acquired with blocking = False, so if the Zennium is occupied and **acquireSharedZennium()** returns False, the OCP is measured again for 15 seconds.  \n",
    "This is repeated until the Zennium is no longer occupied by another channel."
   ]
  },
  {
   "cell_type": "code",
   "execution_count": null,
   "id": "1699a6cb-6bcf-484d-8927-3199157c791f",
   "metadata": {},
   "outputs": [],
   "source": [
    "        deviceHandler.scpiInterface.setMaximumTimeParameter(15)    \n",
    "        while deviceHandler.acquireSharedZennium(blocking = False) == False:\n",
    "            deviceHandler.scpiInterface.measureOCVScan()"
   ]
  },
  {
   "cell_type": "markdown",
   "id": "c355fae7-9a24-494a-ae85-2646f3dc603b",
   "metadata": {},
   "source": [
    "Now that the Zennium is reserved for this measurement, the measurement data is saved as text and the online display is closed."
   ]
  },
  {
   "cell_type": "code",
   "execution_count": null,
   "id": "0e88e691-bb68-452b-a7a9-bc016afed25d",
   "metadata": {},
   "outputs": [],
   "source": [
    "        dataManager = DataManager(deviceHandler.scpiInterface.getDataReceiver())\n",
    "        dataManager.saveDataAsText(filename + \".txt\")\n",
    "        \n",
    "        onlineDisplay.close()\n",
    "        del onlineDisplay"
   ]
  },
  {
   "cell_type": "markdown",
   "id": "d46d3b76-fd12-4f05-9ef6-3b67e20ee5f5",
   "metadata": {},
   "source": [
    "To use the external potentiostat as an EPC device, the device must be switched to EPC mode as shown below.\n",
    "\n",
    "The change between SCPI and EPC interface must be initiated by the currently active controller, it is not possible to \"get back\" the control via SCPI in EPC mode."
   ]
  },
  {
   "cell_type": "code",
   "execution_count": null,
   "id": "b0aed53b-cbd3-4fc7-ac17-17b609a96445",
   "metadata": {},
   "outputs": [],
   "source": [
    "        deviceHandler.switchToEPC()"
   ]
  },
  {
   "cell_type": "markdown",
   "id": "cd286f44-c439-4f99-9b19-8bd2ff0f8009",
   "metadata": {},
   "source": [
    "From now on the Zennium is controlled by Remote2 and the [Thales-Remote-Python library](https://github.com/Zahner-elektrik/Thales-Remote-Python), the switchToEPC() function automatically selects the EPC channel to which the device is connected."
   ]
  },
  {
   "cell_type": "code",
   "execution_count": null,
   "id": "b695e763-d86b-456c-abd0-6a6852b8f5a1",
   "metadata": {},
   "outputs": [],
   "source": [
    "        deviceHandler.sharedZenniumInterface.setEISNaming(\"individual\")\n",
    "        deviceHandler.sharedZenniumInterface.setEISOutputPath(r\"C:\\THALES\\temp\\multichannel\")\n",
    "        deviceHandler.sharedZenniumInterface.setEISOutputFileName(filename)\n",
    "        \n",
    "        deviceHandler.sharedZenniumInterface.setPotentiostatMode(PotentiostatMode.POTMODE_POTENTIOSTATIC)\n",
    "        deviceHandler.sharedZenniumInterface.setAmplitude(10e-3)\n",
    "        deviceHandler.sharedZenniumInterface.setPotential(0)\n",
    "        deviceHandler.sharedZenniumInterface.setLowerFrequencyLimit(100)\n",
    "        deviceHandler.sharedZenniumInterface.setStartFrequency(500)\n",
    "        deviceHandler.sharedZenniumInterface.setUpperFrequencyLimit(1000)\n",
    "        deviceHandler.sharedZenniumInterface.setLowerNumberOfPeriods(5)\n",
    "        deviceHandler.sharedZenniumInterface.setLowerStepsPerDecade(2)\n",
    "        deviceHandler.sharedZenniumInterface.setUpperNumberOfPeriods(20)\n",
    "        deviceHandler.sharedZenniumInterface.setUpperStepsPerDecade(5)\n",
    "        deviceHandler.sharedZenniumInterface.setScanDirection(\"startToMax\")\n",
    "        deviceHandler.sharedZenniumInterface.setScanStrategy(\"single\")\n",
    "        \n",
    "        deviceHandler.sharedZenniumInterface.measureEIS()"
   ]
  },
  {
   "cell_type": "markdown",
   "id": "13fc14e4-e46e-4ec8-b8b3-a28dfc43b222",
   "metadata": {},
   "source": [
    "After the measurement, the switch back to standalone SCPI operation must be initiated and the Zennium must be enabled to be used by another channel."
   ]
  },
  {
   "cell_type": "code",
   "execution_count": null,
   "id": "d47c19bf-e5b4-435c-a837-d20502a606dc",
   "metadata": {},
   "outputs": [],
   "source": [
    "        deviceHandler.switchToSCPIAndReleaseSharedZennium()\n",
    "           \n",
    "    return"
   ]
  },
  {
   "cell_type": "markdown",
   "id": "de430254-71e2-49ec-89f2-f75617c27c85",
   "metadata": {},
   "source": [
    "# Thread for channel 2\n",
    "\n",
    "The following function is executed as a thread for channel 2."
   ]
  },
  {
   "cell_type": "code",
   "execution_count": null,
   "id": "577177a3-600c-4891-b66a-b58e2dfcc6bc",
   "metadata": {},
   "outputs": [],
   "source": [
    "def channel2Thread(deviceHandler):\n",
    "    deviceHandler.scpiInterface.setMaximumTimeParameter(15)\n",
    "    \n",
    "    for i in range(2):\n",
    "        filename = getFileName(channel = 2, cycle = i)\n",
    "               \n",
    "        onlineDisplay = OnlineDisplay(deviceHandler.scpiInterface.getDataReceiver())\n",
    "        \n",
    "        deviceHandler.scpiInterface.measureOCVScan()\n",
    "        \n",
    "        for n in range(2):\n",
    "            deviceHandler.scpiInterface.measureCharge(current = 4,\n",
    "                                                      stopVoltage = 1,\n",
    "                                                      maximumTime = \"5 min\")\n",
    "            \n",
    "            deviceHandler.scpiInterface.measureDischarge(current = -4,\n",
    "                                                         stopVoltage = 0.6,\n",
    "                                                         maximumTime = \"5 min\")\n",
    "        \n",
    "        dataManager = DataManager(deviceHandler.scpiInterface.getDataReceiver())\n",
    "        dataManager.saveDataAsText(filename + \".txt\")\n",
    "        \n",
    "        onlineDisplay.close()\n",
    "        del onlineDisplay"
   ]
  },
  {
   "cell_type": "markdown",
   "id": "72bf967f-4520-48bd-a046-e055bd0386d4",
   "metadata": {},
   "source": [
    "In this example we simply wait without measurement until the potentiostat is free, therefore no parameters are necessary for acquireSharedZennium().  \n",
    "The potentiostat should have been switched off before."
   ]
  },
  {
   "cell_type": "code",
   "execution_count": null,
   "id": "744c4120-6882-4f7a-868d-0dcd4a32206e",
   "metadata": {},
   "outputs": [],
   "source": [
    "        deviceHandler.acquireSharedZennium()              \n",
    "        deviceHandler.switchToEPC()\n",
    "\n",
    "        deviceHandler.sharedZenniumInterface.setEISNaming(\"individual\")\n",
    "        deviceHandler.sharedZenniumInterface.setEISOutputPath(r\"C:\\THALES\\temp\\multichannel\")\n",
    "        deviceHandler.sharedZenniumInterface.setEISOutputFileName(filename)\n",
    "        \n",
    "        deviceHandler.sharedZenniumInterface.setPotentiostatMode(PotentiostatMode.POTMODE_POTENTIOSTATIC)\n",
    "        deviceHandler.sharedZenniumInterface.setAmplitude(10e-3)\n",
    "        deviceHandler.sharedZenniumInterface.setPotential(0)\n",
    "        deviceHandler.sharedZenniumInterface.setLowerFrequencyLimit(100)\n",
    "        deviceHandler.sharedZenniumInterface.setStartFrequency(500)\n",
    "        deviceHandler.sharedZenniumInterface.setUpperFrequencyLimit(1000)\n",
    "        deviceHandler.sharedZenniumInterface.setLowerNumberOfPeriods(5)\n",
    "        deviceHandler.sharedZenniumInterface.setLowerStepsPerDecade(2)\n",
    "        deviceHandler.sharedZenniumInterface.setUpperNumberOfPeriods(20)\n",
    "        deviceHandler.sharedZenniumInterface.setUpperStepsPerDecade(5)\n",
    "        deviceHandler.sharedZenniumInterface.setScanDirection(\"startToMax\")\n",
    "        deviceHandler.sharedZenniumInterface.setScanStrategy(\"single\")\n",
    "        \n",
    "        deviceHandler.sharedZenniumInterface.measureEIS()\n",
    "        \n",
    "        deviceHandler.switchToSCPIAndReleaseSharedZennium()\n",
    "               \n",
    "    \n",
    "    return"
   ]
  },
  {
   "cell_type": "markdown",
   "id": "71163bbf-b562-4320-8d28-386e47416654",
   "metadata": {},
   "source": [
    "# Initialization of the devices\n",
    "\n",
    "Before the two threads with the measurement tasks are executed, the device management objects of type EpcScpiHandler are created with the EpcScpiHandlerFactory class.\n",
    "\n",
    "The Zennium could also be connected to another computer via USB and you can control the Zennium over network, for this the default parameter *shared_zennium_target = \"localhost\"* of the constructor of EpcScpiHandlerFactory must be overwritten with the corresponding IP address.\n",
    "The external potentiostats can currently only be controlled via USB."
   ]
  },
  {
   "cell_type": "code",
   "execution_count": null,
   "id": "b2a1e8fd-2ac4-450a-91c3-90caf0e4cdfe",
   "metadata": {},
   "outputs": [],
   "source": [
    "if __name__ == '__main__':    \n",
    "    handlerFactory = EpcScpiHandlerFactory()"
   ]
  },
  {
   "cell_type": "markdown",
   "id": "75ad88c3-55a5-4711-87f5-eddf7f57dffa",
   "metadata": {},
   "source": [
    "With the method createEpcScpiHandler of the EpcScpiHandlerFactory object handlerFactory, a new EpcScpiHandler object can be created, which is used to control the devices as explained above.\n",
    "\n",
    "The method createEpcScpiHandler() has two parameters:  \n",
    "* **epcChannel:** The number of the EPC channel to which the external potentiostat is connected.\n",
    "* **serialNumber:** The serial number of the device to uniquely identify it."
   ]
  },
  {
   "cell_type": "code",
   "execution_count": null,
   "id": "20a0d32c-7e21-4dac-87f9-0d79994fbdea",
   "metadata": {},
   "outputs": [],
   "source": [
    "    XPOT2 = handlerFactory.createEpcScpiHandler(epcChannel=1, serialNumber=27000)\n",
    "    PP242 = handlerFactory.createEpcScpiHandler(epcChannel=4, serialNumber=35000)"
   ]
  },
  {
   "cell_type": "markdown",
   "id": "f3e3bd5c-4b82-4068-a099-4a78e0c2bfec",
   "metadata": {},
   "source": [
    "After the two devices are initialized, they are passed to the respective threads and the threads are started. Then it only waits for the two threads to finish and then everything is closed.  \n",
    "For the first thread a channel number is passed, this would be necessary for the naming of the files, if the same function is executed as different threads."
   ]
  },
  {
   "cell_type": "code",
   "execution_count": null,
   "id": "9a65d20e-caf1-49a8-bea4-36545d54b4d7",
   "metadata": {},
   "outputs": [],
   "source": [
    "    channel1ThreadHandler = threading.Thread(target=channel1Thread, args=(XPOT2,1))\n",
    "    channel2ThreadHandler = threading.Thread(target=channel2Thread, args=(PP242,))\n",
    "    \n",
    "    channel1ThreadHandler.start()\n",
    "    channel2ThreadHandler.start()\n",
    "    \n",
    "    channel1ThreadHandler.join()\n",
    "    channel2ThreadHandler.join()\n",
    "    \n",
    "    handlerFactory.closeAll()\n",
    "    print(\"finish\")"
   ]
  },
  {
   "cell_type": "markdown",
   "id": "9903514e-930c-43a8-8b41-c2953743c0dd",
   "metadata": {},
   "source": [
    "# Deployment of the source code\n",
    "\n",
    "**The following instruction is not needed by the user.**\n",
    "\n",
    "It automatically extracts the pure python code from the jupyter notebook to provide it for the user.  \n",
    "Thus the user does not need jupyter itself and does not have to copy the code manually.\n",
    "\n",
    "The code is stored in a notebook-like file with the extension .py."
   ]
  },
  {
   "cell_type": "code",
   "execution_count": null,
   "id": "384338f7-ca8e-45b6-93b5-abd871054c31",
   "metadata": {},
   "outputs": [],
   "source": [
    "    if executionInNotebook() == True:\n",
    "        notebookCodeToPython(\"ImpedanceMultiCellCycle.ipynb\")"
   ]
  },
  {
   "cell_type": "code",
   "execution_count": null,
   "id": "25b1ea6a-9b8d-4f0d-8218-b9c7f83c9ece",
   "metadata": {},
   "outputs": [],
   "source": []
  }
 ],
 "metadata": {
  "kernelspec": {
   "display_name": "Python 3",
   "language": "python",
   "name": "python3"
  },
  "language_info": {
   "codemirror_mode": {
    "name": "ipython",
    "version": 3
   },
   "file_extension": ".py",
   "mimetype": "text/x-python",
   "name": "python",
   "nbconvert_exporter": "python",
   "pygments_lexer": "ipython3",
   "version": "3.9.4"
  },
  "toc-autonumbering": false,
  "toc-showtags": false
 },
 "nbformat": 4,
 "nbformat_minor": 5
}
