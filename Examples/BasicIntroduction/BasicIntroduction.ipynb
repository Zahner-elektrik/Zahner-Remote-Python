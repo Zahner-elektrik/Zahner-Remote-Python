{
 "cells": [
  {
   "cell_type": "markdown",
   "id": "8bd2f4f7",
   "metadata": {},
   "source": [
    "# Introduction to the python control system\n",
    "\n",
    "This section serves as a guide for a step by step integration of Zahner's external potentiostats (i.e., **PP212, PP222, PP242 or XPOT2**) into Python control system. As other sections do not cover detailed reports on basic connection scheme, this section is a prerequisite for other sections.\n",
    "\n",
    "Zahner has created customizable building blocks (primitives), consisting of a few commands. Each building block carries out a single measurement, like measuring open circuit voltage, applying a constant current/voltage or a current/voltage ramp etc. These building blocks can be used in any desired sequence one after another and/or in loops. This allow users to design their own measurement methods, suitable to their applications.\n",
    "\n",
    "**In the following, above-mentioned building blocks will be addressed as \"[primitives](https://en.wikipedia.org/wiki/Language_primitive)\".**\n",
    "\n",
    "A complete documentation of the individual primitives can be found on the [API documentation website](http://zahner.de/documentation/zahner_potentiostat/index.html). Below described primitives are linked to their respective API pages.\n",
    "\n",
    "**The following primitives are currently available and can be used in designing a method.**\n",
    "\n",
    "* Apply constant voltage/current vs time (potentiostatic or galvanostatic polarization)  \n",
    "  * [measurePolarization()](http://zahner.de/documentation/zahner_potentiostat/scpi_control/control.html#zahner_potentiostat.scpi_control.control.SCPIDevice.measurePolarization)\n",
    "\n",
    "\n",
    "\n",
    "\n",
    "\n",
    "\n",
    "* Measure open circuit voltage (single data point; average of 7 measurements) or open circuit voltage scan  \n",
    "  * [measureOCV()](http://zahner.de/documentation/zahner_potentiostat/scpi_control/control.html#zahner_potentiostat.scpi_control.control.SCPIDevice.measureOCV)  \n",
    "  * [measureOCVScan()](http://zahner.de/documentation/zahner_potentiostat/scpi_control/control.html#zahner_potentiostat.scpi_control.control.SCPIDevice.measureOCVScan)  \n",
    "\n",
    "\n",
    "* Apply voltage/current ramps (with minimum possible step size). The slope of the ramp can be defined with measurement time and/or scan rate.\n",
    "  * [measureRampValueInTime()](http://zahner.de/documentation/zahner_potentiostat/scpi_control/control.html#zahner_potentiostat.scpi_control.control.SCPIDevice.measureRampValueInTime)  \n",
    "  * [measureRampValueInScanRate()](http://zahner.de/documentation/zahner_potentiostat/scpi_control/control.html#zahner_potentiostat.scpi_control.control.SCPIDevice.measureRampValueInScanRate)  \n",
    "  * [measureRampScanRateForTime()](http://zahner.de/documentation/zahner_potentiostat/scpi_control/control.html#zahner_potentiostat.scpi_control.control.SCPIDevice.measureRampScanRateForTime)  \n",
    "\n",
    "\n",
    "* Apply voltage/current ramps (with customizable step size)\n",
    "  * [measureIEStairs()](http://zahner.de/documentation/zahner_potentiostat/scpi_control/control.html#zahner_potentiostat.scpi_control.control.SCPIDevice.measureIEStairs)  \n",
    "\n",
    "**As examples, following methods are developed from aforementioned primitives:**  \n",
    "\n",
    "* Charging or discharging routines  \n",
    "  * [measureCharge()](http://zahner.de/documentation/zahner_potentiostat/scpi_control/control.html#zahner_potentiostat.scpi_control.control.SCPIDevice.measureCharge)  \n",
    "  * [measureDischarge()](http://zahner.de/documentation/zahner_potentiostat/scpi_control/control.html#zahner_potentiostat.scpi_control.control.SCPIDevice.measureDischarge)  \n",
    "\n",
    "\n",
    "* Consecutive polarization measurements or ramps (currently the measurements can be run either in potentiostatic mode or in galvanostatic mode in a single method) \n",
    "  * [measureProfile()](http://zahner.de/documentation/zahner_potentiostat/scpi_control/control.html#zahner_potentiostat.scpi_control.control.SCPIDevice.measureProfile)  \n",
    "\n",
    "\n",
    "* Potentiostatic intermittent titration technique (PITT)  \n",
    "  * [measurePITT()](http://zahner.de/documentation/zahner_potentiostat/scpi_control/control.html#zahner_potentiostat.scpi_control.control.SCPIDevice.measurePITT)  \n",
    "\n",
    "\n",
    "* Galvanostatic intermittent titration technique (GITT)\n",
    "  * [measureGITT()](http://zahner.de/documentation/zahner_potentiostat/scpi_control/control.html#zahner_potentiostat.scpi_control.control.SCPIDevice.measureGITT)  "
   ]
  },
  {
   "cell_type": "code",
   "execution_count": null,
   "id": "596566df",
   "metadata": {},
   "outputs": [],
   "source": [
    "from zahner_potentiostat.scpi_control.searcher import SCPIDeviceSearcher\n",
    "from zahner_potentiostat.scpi_control.serial_interface import SerialCommandInterface, SerialDataInterface\n",
    "from zahner_potentiostat.scpi_control.control import *\n",
    "from zahner_potentiostat.scpi_control.datahandler import DataManager\n",
    "from zahner_potentiostat.scpi_control.datareceiver import TrackTypes\n",
    "from zahner_potentiostat.display.onlinedisplay import OnlineDisplay\n",
    "\n",
    "from jupyter_utils import executionInNotebook, notebookCodeToPython"
   ]
  },
  {
   "cell_type": "markdown",
   "id": "a688ecbf",
   "metadata": {},
   "source": [
    "# Search for Zahner potentiostats\n",
    "\n",
    "Each Zahner external potentiostat provides two serial interfaces upon connection to a computer. These serial interfaces may have different names (whenever the potentiostat is connected to a computer). If more than one potentiostat is connected then the respective serial interfaces must also be assigned to the individual potentiostat.\n",
    "\n",
    "For an easy integration in python, the following code is available. With the [SCPIDeviceSearcher](http://zahner.de/documentation/zahner_potentiostat/scpi_control/searcher.html), the Zahner potentiostats can be searched. \n",
    "\n",
    "The device search only calls serial interfaces to which Zahner potentiostats are connected. These devices (Zahner's external potentiostats) are then identified with the \\*IDN? command.  \n",
    "\n",
    "The function outputs the response (of device) from the serial interfaces in the console window.\n",
    "\n",
    "The device can be selected via the serial number [selectDevice()](http://zahner.de/documentation/zahner_potentiostat/scpi_control/searcher.html?highlight=select#zahner_potentiostat.scpi_control.searcher.SCPIDeviceSearcher.selectDevice). If no serial number is given, the first device found is used. Upon selecting a device, names of serial interfaces (i.e., COM9, COM10) assigned to the device are returned as strings. If no device is connected, then \"interface is not available\" is returned.\n",
    "\n",
    "The serial interfaces communicate with the potentiostat via the [SCPI](https://en.wikipedia.org/wiki/Standard_Commands_for_Programmable_Instruments) protocol. The data comes back with Zahner's own protocol. Documentation on the binary data protocol is available on request.\n",
    "\n",
    "When a primitive is ran without an error then an output \"ok\" is returned. This output is not processed by the potentiostat."
   ]
  },
  {
   "cell_type": "code",
   "execution_count": 5,
   "id": "1cbb26d9",
   "metadata": {},
   "outputs": [
    {
     "name": "stdout",
     "output_type": "stream",
     "text": [
      "COM10:\n",
      "ZAHNER-ELEKTRIK,PP212,33000,1.0.0 binary\n",
      "\n",
      "COM9:\n",
      "ZAHNER-ELEKTRIK,PP212,33000,1.0.0\n",
      "\n"
     ]
    }
   ],
   "source": [
    "if __name__ == '__main__':\n",
    "    deviceSearcher = SCPIDeviceSearcher()\n",
    "    deviceSearcher.searchZahnerDevices()\n",
    "    commandSerial, dataSerial = deviceSearcher.selectDevice(\"33000\")"
   ]
  },
  {
   "cell_type": "markdown",
   "id": "f445ac51",
   "metadata": {},
   "source": [
    "# Establish and initialize connection\n",
    "\n",
    "After the device has been selected and the serial interfaces are available then the names of serial interfaces are stored in the variables **commandSerial** and **dataSerial** as strings.\n",
    "\n",
    "If the names of serial interfaces (i.e., COM9, COM10) are known, they can also be passed directly to the [SerialCommandInterface](http://zahner.de/documentation/zahner_potentiostat/scpi_control/serial_interface.html#zahner_potentiostat.scpi_control.serial_interface.SerialCommandInterface) and [SerialDataInterface](http://zahner.de/documentation/zahner_potentiostat/scpi_control/serial_interface.html#zahner_potentiostat.scpi_control.serial_interface.SerialDataInterface) objects.\n",
    "\n",
    "**commandSerial:**  \n",
    "The serial interface assigned the name commandSerial is used to control the device. With this serial interface, the commands for abort and reset are executed immediately without waiting for the completion of active measurement.\n",
    "\n",
    "**dataSerial:**  \n",
    "The serial interface assigned the name dataSerial receives the data from the device. Data is sent live during a measurement and also at the end of the measurement. \n",
    "\n",
    "*Currently, a stand-alone operation is not possible without a computer connected to the device to receive the data.*\n",
    "\n",
    "With these interfaces, the [potentiostat object](http://zahner.de/documentation/zahner_potentiostat/scpi_control/control.html#zahner_potentiostat.scpi_control.control.SCPIDevice) ZahnerPP2x2 is created, which represents and controls the potentiostat."
   ]
  },
  {
   "cell_type": "code",
   "execution_count": 3,
   "id": "192f5f13",
   "metadata": {},
   "outputs": [],
   "source": [
    "    ZahnerPP2x2 = SCPIDevice(SerialCommandInterface(commandSerial), SerialDataInterface(dataSerial))"
   ]
  },
  {
   "cell_type": "markdown",
   "id": "ed13bead",
   "metadata": {},
   "source": [
    "# Starting the live data display\n",
    "\n",
    "The following code section shows how the [OnlineDisplay](http://zahner.de/documentation/zahner_potentiostat/display/onlinedisplay.html#zahner_potentiostat.display.onlinedisplay.OnlineDisplay) class can be used to display live voltage and current measurement points.\n",
    "\n",
    "The function executionInNotebook() is used to check if the execution is taking place in Jupyter notebook or not. As Jupyter cannot display the live measured data so if the execution take place in Jupyter notebook then the online display will not be executed."
   ]
  },
  {
   "cell_type": "code",
   "execution_count": 4,
   "id": "e2ee16cf",
   "metadata": {},
   "outputs": [],
   "source": [
    "    onlineDisplay = None\n",
    "    if executionInNotebook() == False:\n",
    "        onlineDisplay = OnlineDisplay(ZahnerPP2x2.getDataReceiver())"
   ]
  },
  {
   "cell_type": "markdown",
   "id": "7848b558",
   "metadata": {},
   "source": [
    "# Setting general parameters\n",
    "First of all, general parameters are set, which will be used in all primitives that will be executed.  \n",
    "\n",
    "An example of this is given below, where a sampling rate of 25 Hz and potentiostatic operating mode is selected."
   ]
  },
  {
   "cell_type": "code",
   "execution_count": null,
   "id": "69b1faad",
   "metadata": {},
   "outputs": [],
   "source": [
    "    ZahnerPP2x2.setSamplingFrequency(25)\n",
    "    ZahnerPP2x2.setCoupling(COUPLING.POTENTIOSTATIC)"
   ]
  },
  {
   "cell_type": "markdown",
   "id": "0ee5fe9b",
   "metadata": {},
   "source": [
    "# Customize and execute the primitives\n",
    "\n",
    "In the following example, three polarization measurements are carried out on a capacitor and a resistor, connected in series.\n",
    "\n",
    "At first, a general parameter, a measurement time of 15 seconds is configured. "
   ]
  },
  {
   "cell_type": "code",
   "execution_count": null,
   "id": "81fae171",
   "metadata": {},
   "outputs": [],
   "source": [
    "    ZahnerPP2x2.setMaximumTimeParameter(15)"
   ]
  },
  {
   "cell_type": "markdown",
   "id": "cba4e304",
   "metadata": {},
   "source": [
    "For the measurement, first a voltage of 0 V is set and the polarization measurement is started.\n",
    "\n",
    "Afterwards, a voltage of 3 V is set and then second polarization measurement is started.\n",
    "\n",
    "Finally, the voltage value is set back to 0 V and last polarization measurement is carried out."
   ]
  },
  {
   "cell_type": "code",
   "execution_count": null,
   "id": "b8d60341",
   "metadata": {},
   "outputs": [],
   "source": [
    "    ZahnerPP2x2.setVoltageParameter(0)\n",
    "    ZahnerPP2x2.measurePolarization()\n",
    "    \n",
    "    ZahnerPP2x2.setVoltageParameter(3)\n",
    "    ZahnerPP2x2.measurePolarization()\n",
    "    \n",
    "    ZahnerPP2x2.setVoltageParameter(0)\n",
    "    ZahnerPP2x2.measurePolarization()"
   ]
  },
  {
   "cell_type": "markdown",
   "id": "c90672c9",
   "metadata": {},
   "source": [
    "# Processing of data\n",
    "\n",
    "The potentiostat contains a [DataReceiver](http://zahner.de/documentation/zahner_potentiostat/scpi_control/datareceiver.html) object, in which the received data is processed and stored.  \n",
    "\n",
    "This object can be obtained from the potentiostat using the getDataReceiver() method."
   ]
  },
  {
   "cell_type": "code",
   "execution_count": 8,
   "id": "18ab8e1a",
   "metadata": {},
   "outputs": [],
   "source": [
    "    dataReceiver = ZahnerPP2x2.getDataReceiver()"
   ]
  },
  {
   "cell_type": "markdown",
   "id": "86c6d42b",
   "metadata": {},
   "source": [
    "Then, as is shown in the following, individual data tracks from the objects can be obtained for further processing. "
   ]
  },
  {
   "cell_type": "code",
   "execution_count": 9,
   "id": "4aca3416",
   "metadata": {},
   "outputs": [],
   "source": [
    "    completeData = dataReceiver.getCompletePoints()"
   ]
  },
  {
   "cell_type": "markdown",
   "id": "6ff4d63a",
   "metadata": {},
   "source": [
    "Now complete data can be received as shown in the following example.\n",
    "\n",
    "The data is stored in a dictionary, for each data track there is a key in the dictionary. The arrays in each key are of the same length.\n",
    "\n",
    "For example, the content of the variable completeData could look like this:  \n",
    "completeData = {\"[TrackTypes](http://zahner.de/documentation/zahner_potentiostat/scpi_control/datareceiver.html#zahner_potentiostat.scpi_control.datareceiver.TrackTypes).TIME\" : [1, 2, 3, 4] , \"TrackTypes.VOLTAGE\" : [3, 2, 3, 4] , \"TrackTypes.CURRENT\" : [0, 2, 3, 0]}"
   ]
  },
  {
   "cell_type": "code",
   "execution_count": 10,
   "id": "16d6f343",
   "metadata": {},
   "outputs": [
    {
     "name": "stdout",
     "output_type": "stream",
     "text": [
      "[-0.00031085967456119225, -0.0003108896096872264, -0.0003108896096872264, -0.0003108297394351581, -0.0003108297394351581, -0.00031085967456119225, -0.0003108297394351581, -0.0003108896096872264, -0.0003109195448132605, -0.0003109494799392946]\n"
     ]
    }
   ],
   "source": [
    "    timeData = completeData[TrackTypes.TIME.toString()]\n",
    "    voltageData = completeData[TrackTypes.VOLTAGE.toString()]\n",
    "    currentData = completeData[TrackTypes.CURRENT.toString()]\n",
    "    \n",
    "    print(currentData[0:10])"
   ]
  },
  {
   "cell_type": "markdown",
   "id": "bba08c4d",
   "metadata": {},
   "source": [
    "# Plotting and saving the data\n",
    "\n",
    "To display the measurement results, [DataManager](http://zahner.de/documentation/zahner_potentiostat/scpi_control/datahandler.html) class is implemented.\n",
    "\n",
    "With this class, current and voltage can be displayed over time. The data can also be saved as a text file.\n",
    "\n",
    "The following code lines can be used to plot the data.  \n",
    "\n",
    "If a filename is passed, the plot will be saved under this filename. The two other parameters can be passed if diagram width and height (in inches) are to be corrected.\n",
    "\n",
    "The file types of the plot are given by [matplotlib](https://matplotlib.org/stable/api/figure_api.html?highlight=savefig#matplotlib.figure.Figure.savefig).\n",
    "\n",
    "PDF works very well and creates vector graphics which can later be easily integrated into LaTeX."
   ]
  },
  {
   "cell_type": "code",
   "execution_count": 11,
   "id": "ce2e63e7",
   "metadata": {},
   "outputs": [
    {
     "data": {
      "image/png": "[encoded data removed]",
      "text/plain": [
       "<Figure size 720x432 with 2 Axes>"
      ]
     },
     "metadata": {
      "needs_background": "light"
     },
     "output_type": "display_data"
    },
    {
     "data": {
      "text/plain": [
       "<Figure size 432x288 with 0 Axes>"
      ]
     },
     "metadata": {},
     "output_type": "display_data"
    },
    {
     "data": {
      "text/plain": [
       "<Figure size 432x288 with 0 Axes>"
      ]
     },
     "metadata": {},
     "output_type": "display_data"
    }
   ],
   "source": [
    "    dataManager = DataManager(dataReceiver)\n",
    "    dataManager.plotTIUData(\"polarization.pdf\",10,5)"
   ]
  },
  {
   "cell_type": "markdown",
   "id": "4747c2da",
   "metadata": {},
   "source": [
    "In the polarisation.txt file the stored data is seperated with a **\";\"**.\n",
    "\n",
    "In future, exports for new Zahner file formats will be added.\n",
    "This exported data can then also be opened in [Zahner Analysis](http://zahner.de/products/software/zahner-analysis.html) or Zahner-Lab for evaluation."
   ]
  },
  {
   "cell_type": "code",
   "execution_count": 12,
   "id": "4b4d0e92",
   "metadata": {},
   "outputs": [],
   "source": [
    "    dataManager.saveDataAsText(\"polarization.txt\")"
   ]
  },
  {
   "cell_type": "markdown",
   "id": "67a48f2a",
   "metadata": {},
   "source": [
    "# Close the connection\n",
    "\n",
    "Close the online display, if it has been opened and close the connection to the device."
   ]
  },
  {
   "cell_type": "code",
   "execution_count": 13,
   "id": "e4ba0d17",
   "metadata": {},
   "outputs": [
    {
     "name": "stdout",
     "output_type": "stream",
     "text": [
      "finish\n"
     ]
    }
   ],
   "source": [
    "    if onlineDisplay != None:\n",
    "        onlineDisplay.close()\n",
    "    \n",
    "    ZahnerPP2x2.close()\n",
    "    print(\"finish\")"
   ]
  },
  {
   "cell_type": "markdown",
   "id": "8239cd80",
   "metadata": {},
   "source": [
    "# Deployment of the source code\n",
    "\n",
    "**The following instruction is not needed by the user.**\n",
    "\n",
    "It automatically extracts the pure python code from the jupyter notebook to provide it to the user. Thus the user does not need jupyter itself and does not have to copy the code manually.\n",
    "\n",
    "The source code is saved in a .py file with the same name as the notebook."
   ]
  },
  {
   "cell_type": "code",
   "execution_count": 6,
   "id": "4c5ad286",
   "metadata": {},
   "outputs": [],
   "source": [
    "    if executionInNotebook() == True:\n",
    "        notebookCodeToPython(\"BasicIntroduction.ipynb\")"
   ]
  },
  {
   "cell_type": "code",
   "execution_count": null,
   "id": "5879d9a5",
   "metadata": {},
   "outputs": [],
   "source": []
  }
 ],
 "metadata": {
  "kernelspec": {
   "display_name": "Python 3",
   "language": "python",
   "name": "python3"
  },
  "language_info": {
   "codemirror_mode": {
    "name": "ipython",
    "version": 3
   },
   "file_extension": ".py",
   "mimetype": "text/x-python",
   "name": "python",
   "nbconvert_exporter": "python",
   "pygments_lexer": "ipython3",
   "version": "3.9.5"
  }
 },
 "nbformat": 4,
 "nbformat_minor": 5
}
