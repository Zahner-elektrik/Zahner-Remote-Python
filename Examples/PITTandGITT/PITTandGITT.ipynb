{
 "cells": [
  {
   "cell_type": "markdown",
   "id": "7ed4d86b-7307-465a-bd55-9f808b3360d6",
   "metadata": {},
   "source": [
    "# PITT and GITT example\n",
    "\n",
    "This notebook deals with potentiostatic intermittent titration technique (PITT) and galvanostatic intermittent titration technique (GITT) methods. \n",
    "\n",
    "The measurement times are actually much too short for meaningful PITT and GITT measurements. The main focus is to describe the programming interface for the PITT and GITT."
   ]
  },
  {
   "cell_type": "code",
   "execution_count": 2,
   "id": "f529771e-9d77-4d4d-8320-3aa2126f2a2e",
   "metadata": {},
   "outputs": [
    {
     "name": "stdout",
     "output_type": "stream",
     "text": [
      "COM10:\n",
      "ZAHNER-ELEKTRIK,PP212,33000,1.0.0 binary\n",
      "\n",
      "COM9:\n",
      "ZAHNER-ELEKTRIK,PP212,33000,1.0.0\n",
      "\n"
     ]
    }
   ],
   "source": [
    "from zahner_potentiostat.scpi_control.searcher import SCPIDeviceSearcher\n",
    "from zahner_potentiostat.scpi_control.serial_interface import SerialCommandInterface, SerialDataInterface\n",
    "from zahner_potentiostat.scpi_control.control import *\n",
    "from zahner_potentiostat.scpi_control.datahandler import DataManager\n",
    "from zahner_potentiostat.scpi_control.datareceiver import TrackTypes\n",
    "from zahner_potentiostat.display.dcplot import DCPlot\n",
    "from zahner_potentiostat.display.onlinedisplay import OnlineDisplay\n",
    "from zahner_potentiostat.drivecycle.cycle_importer import getNormalisedCurrentTableForNYCCCOL\n",
    "\n",
    "from jupyter_utils import executionInNotebook, notebookCodeToPython\n",
    "\n",
    "if __name__ == '__main__':\n",
    "    deviceSearcher = SCPIDeviceSearcher()\n",
    "    deviceSearcher.searchZahnerDevices()\n",
    "    commandSerial, dataSerial = deviceSearcher.selectDevice()\n",
    "    ZahnerPP2x2 = SCPIDevice(SerialCommandInterface(commandSerial), SerialDataInterface(dataSerial))\n",
    "    ZahnerPP2x2.clearState()"
   ]
  },
  {
   "cell_type": "markdown",
   "id": "5398fb5f-91af-4b4b-811d-ef907981405e",
   "metadata": {},
   "source": [
    "# Setting general parameters\n",
    "First of all, general parameters are set, which will be used in all primitives.  \n",
    "The current range is held in the third shunt, as no more than 2 A current will flow."
   ]
  },
  {
   "cell_type": "code",
   "execution_count": null,
   "id": "3e5510a3-aea3-4dc6-8d8f-eb9d78c8005c",
   "metadata": {},
   "outputs": [],
   "source": [
    "    ZahnerPP2x2.setRaiseOnErrorEnabled(True)\n",
    "    ZahnerPP2x2.calibrateOffsets()\n",
    "    ZahnerPP2x2.setSamplingFrequency(5)\n",
    "    \n",
    "    ZahnerPP2x2.setAutorangingEnabled(False)\n",
    "    ZahnerPP2x2.setInterpolationEnabled(False)\n",
    "    \n",
    "    ZahnerPP2x2.setShuntIndex(2)\n",
    "    ZahnerPP2x2.setMinimumShuntIndex(2)\n",
    "    ZahnerPP2x2.setMaximumShuntIndex(2)\n",
    "    \n",
    "    ZahnerPP2x2.setVoltageRangeIndex(0)"
   ]
  },
  {
   "cell_type": "markdown",
   "id": "e50a7d58-1004-46f5-b09e-7856b80b0f69",
   "metadata": {},
   "source": [
    "# Starting the live data display\n",
    "\n",
    "With the following command, a plotting window can be opened, in which the measured voltage and current points from the measuring device are displayed live.\n",
    "\n",
    "The function executionInNotebook() is used to check if the execution is taking place in Jupyter notebook or not. As Jupyter cannot display the live measured data so if the execution take place in Jupyter notebook then the online display will not be executed."
   ]
  },
  {
   "cell_type": "code",
   "execution_count": null,
   "id": "b6d9205b-0c55-4d30-ba43-833ca7e7b32c",
   "metadata": {},
   "outputs": [],
   "source": [
    "    onlineDisplay = None\n",
    "    if executionInNotebook() == False:\n",
    "        onlineDisplay = OnlineDisplay(ZahnerPP2x2.getDataReceiver())"
   ]
  },
  {
   "cell_type": "markdown",
   "id": "4c0fdb04-8ae6-4724-a67a-9f4183fbd69d",
   "metadata": {},
   "source": [
    "# PITT - Potentiostatic Intermittent Titration Technique\n",
    "\n",
    "## Setup measurement\n",
    "\n",
    "General parameters such as sampling rate or current ranges have previously been set.\n",
    "\n",
    "The measurement is started at OCV. Charging is carried out for a voltage of 100 mV and then discharging is carried out again 100 mV back to OCV."
   ]
  },
  {
   "cell_type": "code",
   "execution_count": null,
   "id": "3c165f92-a2e4-4523-9fc8-9ea0d5ce5924",
   "metadata": {},
   "outputs": [],
   "source": [
    "    ocVoltage = ZahnerPP2x2.measureOCV()\n",
    "    print(\"open circuit reference voltage: \" + str(ocVoltage) + \" V\")"
   ]
  },
  {
   "cell_type": "markdown",
   "id": "0f64eb27-ae8d-4bde-90a3-65ca1173d232",
   "metadata": {
    "tags": [],
    "toc-hr-collapsed": true
   },
   "source": [
    "## Execute the measurement\n",
    "\n",
    "The [measurePITT()](http://zahner.de/documentation/zahner_potentiostat/scpi_control/control.html#zahner_potentiostat.scpi_control.control.SCPIDevice.measurePITT) method is used for the measurement. A closer look at the source code shows how the primitives were put together. An adjustment to the source code is easily possible."
   ]
  },
  {
   "cell_type": "code",
   "execution_count": null,
   "id": "24ee36c0-d054-4aa5-901e-22c2b587cb2b",
   "metadata": {},
   "outputs": [],
   "source": [
    "    ZahnerPP2x2.measurePITT(targetVoltage = ocVoltage + 0.1,\n",
    "                           endVoltage = ocVoltage,\n",
    "                           stepVoltage = 0.01,\n",
    "                           onTime = \"30s\",\n",
    "                           openCircuitTime = \"30s\",\n",
    "                           startWithOCVScan = True,\n",
    "                           measureOnTargetVoltage = True)"
   ]
  },
  {
   "cell_type": "markdown",
   "id": "4001b5a8-cdd2-4de9-ac99-ca7bdfef3a55",
   "metadata": {},
   "source": [
    "## Plot the data\n",
    "\n",
    "This script is not executed in the Jupyter notebook because of the long execution time, since you can not see the live data.  \n",
    "The plot is inserted as an image, which was created during the execution in the development environment."
   ]
  },
  {
   "cell_type": "code",
   "execution_count": null,
   "id": "8c885d89-f0da-40c4-afcd-729221807e60",
   "metadata": {},
   "outputs": [],
   "source": [
    "    dataReceiver = ZahnerPP2x2.getDataReceiver()\n",
    "    dataManager = DataManager(dataReceiver)\n",
    "    dataManager.saveDataAsText(\"PITT.txt\")\n",
    "    dataManager.plotTIUData(\"PITT.png\",10,5)"
   ]
  },
  {
   "cell_type": "markdown",
   "id": "a4532a66-a36d-4ff5-a67d-87eaba9eb59e",
   "metadata": {},
   "source": [
    "![PITT](PITT.png)"
   ]
  },
  {
   "cell_type": "markdown",
   "id": "b3f67ba1-522f-481b-86e0-26d742d9644f",
   "metadata": {},
   "source": [
    "## Reset configurations\n",
    "\n",
    "Configuration is resetted for the next measurement. Here, the measured data points are deleted for the next measurement."
   ]
  },
  {
   "cell_type": "code",
   "execution_count": null,
   "id": "97d7b18c-1e89-40cb-9a05-c9abc9ae4334",
   "metadata": {},
   "outputs": [],
   "source": [
    "    dataReceiver.deletePoints()"
   ]
  },
  {
   "cell_type": "markdown",
   "id": "9a9260ea-9af6-4078-bba1-0690d0cab81a",
   "metadata": {},
   "source": [
    "# GITT - Galvanostatic Intermittent Titration Technique\n",
    "\n",
    "## Setup measurement\n",
    "\n",
    "General parameters such as sampling rate or current ranges have previously been set.\n",
    "\n",
    "The GITT measurement is also started at the OCV and it is to be charged 150 mV and then discharged to OCV minus 100 mV."
   ]
  },
  {
   "cell_type": "markdown",
   "id": "1930d1b3-20ef-407a-a1e5-80ed1adb5ab9",
   "metadata": {},
   "source": [
    "## Execute the measurement\n",
    "\n",
    "The [measureGITT()](http://zahner.de/documentation/zahner_potentiostat/scpi_control/control.html#zahner_potentiostat.scpi_control.control.SCPIDevice.measureGITT) method is used for the measurement. A closer look at the source code shows how the primitives were put together. An adjustment to the source code is easily possible."
   ]
  },
  {
   "cell_type": "code",
   "execution_count": null,
   "id": "214e9d3d-1e7a-4da5-82e2-f6a04bfa4cc3",
   "metadata": {},
   "outputs": [],
   "source": [
    "    ZahnerPP2x2.measureGITT( targetVoltage = ocVoltage + 0.15,\n",
    "                        endVoltage = ocVoltage - 0.1,\n",
    "                        current = 1,\n",
    "                        onTime = \"30s\",\n",
    "                        openCircuitTime = \"30s\",\n",
    "                        startWithOCVScan = True)"
   ]
  },
  {
   "cell_type": "markdown",
   "id": "f6b35430-74c0-4d77-af30-930d72dffeac",
   "metadata": {},
   "source": [
    "## Plot the data\n",
    "\n",
    "This script is not executed in the Jupyter notebook because of the long execution time, since you can not see the live data.  \n",
    "The plot is inserted as an image, which was created during the execution in the development environment."
   ]
  },
  {
   "cell_type": "code",
   "execution_count": null,
   "id": "9e729181-b1c5-4a8a-b294-99020f168a80",
   "metadata": {},
   "outputs": [],
   "source": [
    "    dataManager.saveDataAsText(\"GITT.txt\")\n",
    "    dataManager.plotTIUData(\"GITT.png\",10,5)"
   ]
  },
  {
   "cell_type": "markdown",
   "id": "edec6a8f-1869-42c1-b2ed-f3edd7980abd",
   "metadata": {},
   "source": [
    "![GITT](GITT.png)"
   ]
  },
  {
   "cell_type": "markdown",
   "id": "f1407063-03f6-44ba-8a75-1321cbbfcff7",
   "metadata": {},
   "source": [
    "# Close the connection\n",
    "\n",
    "Closing the online display when it has been opened and close the connection to the device."
   ]
  },
  {
   "cell_type": "code",
   "execution_count": null,
   "id": "2fd793b8-c9da-4c16-8297-edec20c1e903",
   "metadata": {},
   "outputs": [],
   "source": [
    "    if onlineDisplay != None:\n",
    "        onlineDisplay.close()\n",
    "    \n",
    "    ZahnerPP2x2.close()\n",
    "    print(\"finish\")"
   ]
  },
  {
   "cell_type": "markdown",
   "id": "3a5ca1ed-1ba6-44fa-9002-8e664fdae68d",
   "metadata": {},
   "source": [
    "# Deployment of the source code\n",
    "\n",
    "**The following instruction is not needed by the user.**\n",
    "\n",
    "It automatically extracts the pure python code from the jupyter notebook to provide it for the user.  \n",
    "Thus the user does not need jupyter itself and does not have to copy the code manually.\n",
    "\n",
    "The code is stored in a notebook-like file with the extension .py."
   ]
  },
  {
   "cell_type": "code",
   "execution_count": 3,
   "id": "93e3dac3-e579-403a-ac39-9253c08de72e",
   "metadata": {},
   "outputs": [],
   "source": [
    "    if executionInNotebook() == True:\n",
    "        notebookCodeToPython(\"PITTandGITT.ipynb\")"
   ]
  },
  {
   "cell_type": "code",
   "execution_count": null,
   "id": "a0564c41-6115-4100-a392-bfa1b2e604c5",
   "metadata": {},
   "outputs": [],
   "source": []
  }
 ],
 "metadata": {
  "kernelspec": {
   "display_name": "Python 3",
   "language": "python",
   "name": "python3"
  },
  "language_info": {
   "codemirror_mode": {
    "name": "ipython",
    "version": 3
   },
   "file_extension": ".py",
   "mimetype": "text/x-python",
   "name": "python",
   "nbconvert_exporter": "python",
   "pygments_lexer": "ipython3",
   "version": "3.9.4"
  },
  "toc-autonumbering": true,
  "toc-showmarkdowntxt": false,
  "toc-showtags": false
 },
 "nbformat": 4,
 "nbformat_minor": 5
}
