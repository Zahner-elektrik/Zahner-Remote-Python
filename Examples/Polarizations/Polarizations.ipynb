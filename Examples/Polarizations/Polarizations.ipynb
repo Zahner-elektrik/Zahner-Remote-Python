{
 "cells": [
  {
   "cell_type": "markdown",
   "id": "7ed4d86b-7307-465a-bd55-9f808b3360d6",
   "metadata": {},
   "source": [
    "# Polarization\n",
    "\n",
    "**Prerequisite: Basic Introduction**\n",
    "\n",
    "In this notebook parameterization of the polarization primitives and few methods derived from the primitives are presented. In particular, setting up of\n",
    "\n",
    "* General parameters\n",
    "* Current/voltage range\n",
    "* Current/voltage limits\n",
    "* Online display\n",
    "* Tolerance limits\n",
    "\n",
    "is explained in detail.\n",
    "\n",
    "**Test object:** Polarization measurements are carried out for a 200 F, 2.7 V supercapacitor. "
   ]
  },
  {
   "cell_type": "code",
   "execution_count": 1,
   "id": "f529771e-9d77-4d4d-8320-3aa2126f2a2e",
   "metadata": {},
   "outputs": [
    {
     "name": "stdout",
     "output_type": "stream",
     "text": [
      "COM14:\n",
      "ZAHNER-ELEKTRIK,PP242,35000,1.0.2\n",
      "\n",
      "COM16:\n",
      "ZAHNER-ELEKTRIK,PP242,35000,1.0.2 binary\n",
      "\n"
     ]
    }
   ],
   "source": [
    "from zahner_potentiostat.scpi_control.searcher import SCPIDeviceSearcher\n",
    "from zahner_potentiostat.scpi_control.serial_interface import SerialCommandInterface, SerialDataInterface\n",
    "from zahner_potentiostat.scpi_control.control import *\n",
    "from zahner_potentiostat.scpi_control.datahandler import DataManager\n",
    "from zahner_potentiostat.scpi_control.datareceiver import TrackTypes\n",
    "from zahner_potentiostat.display.onlinedisplay import OnlineDisplay\n",
    "\n",
    "from jupyter_utils import executionInNotebook\n",
    "if __name__ == '__main__':\n",
    "    deviceSearcher = SCPIDeviceSearcher()\n",
    "    deviceSearcher.searchZahnerDevices()\n",
    "    commandSerial, dataSerial = deviceSearcher.selectDevice()"
   ]
  },
  {
   "cell_type": "code",
   "execution_count": 2,
   "id": "fded57d6-7d7b-40e2-8b62-3ecd9a3827a9",
   "metadata": {},
   "outputs": [],
   "source": [
    "    ZahnerPP2x2 = SCPIDevice(SerialCommandInterface(commandSerial), SerialDataInterface(dataSerial))"
   ]
  },
  {
   "cell_type": "markdown",
   "id": "5398fb5f-91af-4b4b-811d-ef907981405e",
   "metadata": {},
   "source": [
    "# Setting up general parameters\n",
    "\n",
    "At first, general parameters are set which will be used in all primitives to be executed.\n",
    "\n",
    "[setRaiseonErrorEnabled(True)](https://doc.zahner.de/zahner_potentiostat/scpi_control/control.html?highlight=setraiseonerrorenabled#zahner_potentiostat.scpi_control.control.SCPIDevice.setRaiseOnErrorEnabled) enables that every error that comes back from the device triggers an exception. By default, it is turned off and errors are only printed on the console.\n",
    "\n",
    "The next command sets the sampling frequency to 50 Hz. A maximum sampling frequency of 100 Hz is possible."
   ]
  },
  {
   "cell_type": "code",
   "execution_count": 3,
   "id": "3e5510a3-aea3-4dc6-8d8f-eb9d78c8005c",
   "metadata": {},
   "outputs": [
    {
     "data": {
      "text/plain": [
       "'ok\\n'"
      ]
     },
     "execution_count": 3,
     "metadata": {},
     "output_type": "execute_result"
    }
   ],
   "source": [
    "    ZahnerPP2x2.setRaiseOnErrorEnabled(True)\n",
    "    ZahnerPP2x2.setSamplingFrequency(50)"
   ]
  },
  {
   "cell_type": "markdown",
   "id": "ddcdc8de-8214-4123-97a5-2e614f3ee116",
   "metadata": {},
   "source": [
    "The **mains power-line frequency** of the device is pre-set to the customer's mains frequency before delivery.\n",
    "\n",
    "To ensure the correct frequency value, the user must also provide the **mains power-line frequency** with which the device will be operated. \n",
    "\n",
    "**The mains frequency is stored in the device's internal memory and remains stored even after a software update or a reboot hence providing mains frequency with every script execution is not necessay**."
   ]
  },
  {
   "cell_type": "code",
   "execution_count": 4,
   "id": "c42e9a95-d5f3-48db-ad9f-0461b724e84a",
   "metadata": {},
   "outputs": [
    {
     "data": {
      "text/plain": [
       "'ok\\n'"
      ]
     },
     "execution_count": 4,
     "metadata": {},
     "output_type": "execute_result"
    }
   ],
   "source": [
    "    ZahnerPP2x2.setLineFrequency(50)"
   ]
  },
  {
   "cell_type": "markdown",
   "id": "1829d487-5c3b-40e2-96b9-601aa2e7d0a3",
   "metadata": {},
   "source": [
    "Each potentiostat is factory-calibrated before delivery. The calibration is carried out after potentiostat's warm-up time of 30 minutes.\n",
    "\n",
    "With the following primitive, the users may calibrate the potentiostat again. However it is strongly recommended to start calibration after a warm up time of 30 minutes. The calibration only takes a few seconds.\n",
    "\n",
    "<div class=\"alert alert-block alert-warning\">\n",
    "    <b>Warning:</b> The offsets must be calibrated manually by calling this method after the instrument has been warmed up for at least 30 minutes.  \n",
    "    If a cold instrument is calibrated, the offsets will be worse when the instrument will be warm during operation.\n",
    "</div>\n",
    "\n",
    "If the device repeatedly displays an error code after calibration, there may be a defect in the device. In this case, please contact your Zahner support representive or Zahner distributor."
   ]
  },
  {
   "cell_type": "code",
   "execution_count": 5,
   "id": "527c7c7c-39e3-4341-905e-05d69e5906f9",
   "metadata": {},
   "outputs": [
    {
     "data": {
      "text/plain": [
       "'ok\\n'"
      ]
     },
     "execution_count": 5,
     "metadata": {},
     "output_type": "execute_result"
    }
   ],
   "source": [
    "    ZahnerPP2x2.calibrateOffsets()"
   ]
  },
  {
   "cell_type": "markdown",
   "id": "d2dfc106-4b74-4a3a-87ac-6fc558c2db4d",
   "metadata": {},
   "source": [
    "## Set current ranging parameters\n",
    "\n",
    "In the following code, at first, autoranging of the current range is carried out.\n",
    "\n",
    "If possible, **autoranging should be avoided**, as autoranges provide noisy measurement results, since the shunt change causes disturbances. It also takes time for the measuring device to find the correct current range, during which time-sensitive measurement data may be lost.\n",
    "\n",
    "In order to see less disturbances during autoranging, the interpolation is switched on [setInterpolationEnabled(True)](https://doc.zahner.de/zahner_potentiostat/scpi_control/control.html?highlight=interpolation#zahner_potentiostat.scpi_control.control.SCPIDevice.setInterpolationEnabled). With this, the measurement data is linearly interpolated for the duration of the shunt change and voltage disturbances are reduced.  \n",
    "\n",
    "Depending on the measurement object, this may works for better or for worse.\n",
    "\n",
    "Zahner's potentiostats (PP2X2) have four shunts (0, 1, 2, and 3). In this section, shunt 1 is selected because with supercapacitor, a voltage jump is initially measured which leads to a substantial current flow in the supercapacitor. Hence Shunt 1 is used as it covers a big current range. To get further information about the suitable shunts for different current ranges, please check the respective [manual of the potentiostat](https://doc.zahner.de/hardware/pp2x2_xpot2.pdf). Shunt 0 is only be used when PP2X2 potentiostats are used as EPC devices with the Zennium series potentiostats.\n",
    "\n",
    "Alternatively, the [setCurrentRange()](https://doc.zahner.de/zahner_potentiostat/scpi_control/control.html#zahner_potentiostat.scpi_control.control.SCPIDevice.setCurrentRange) method can also be used to select an appropriate current range to match the expected currents.\n",
    "\n",
    "Finally, the shunts limits in which autoranging is possible are set.\n",
    "\n",
    "In stand-alone mode, only DC measurements are possible. "
   ]
  },
  {
   "cell_type": "code",
   "execution_count": 6,
   "id": "e7000428-725b-407e-9e90-4f65b6104628",
   "metadata": {},
   "outputs": [
    {
     "data": {
      "text/plain": [
       "'ok\\n'"
      ]
     },
     "execution_count": 6,
     "metadata": {},
     "output_type": "execute_result"
    }
   ],
   "source": [
    "    ZahnerPP2x2.setAutorangingEnabled(True)\n",
    "    ZahnerPP2x2.setInterpolationEnabled(True)\n",
    "    \n",
    "    ZahnerPP2x2.setShuntIndex(1)\n",
    "    #or\n",
    "    ZahnerPP2x2.setCurrentRange(20)\n",
    "    \n",
    "    ZahnerPP2x2.setMinimumShuntIndex(1)\n",
    "    ZahnerPP2x2.setMaximumShuntIndex(3)"
   ]
  },
  {
   "cell_type": "markdown",
   "id": "2858fe9b-3718-4766-a133-1011c2fc4f0d",
   "metadata": {},
   "source": [
    "## Set voltage range\n",
    "\n",
    "The voltage range index must be selected manually. This is not switched automatically. The range can be set like the current by shunt index or by desired maximum working range.  \n",
    "\n",
    "The maximum voltages for each range can be found in the manual of the potentiostat.  "
   ]
  },
  {
   "cell_type": "code",
   "execution_count": 7,
   "id": "bb5e00bf-7a6e-4dc8-a577-2bf2b33ee6cd",
   "metadata": {},
   "outputs": [
    {
     "data": {
      "text/plain": [
       "'ok\\n'"
      ]
     },
     "execution_count": 7,
     "metadata": {},
     "output_type": "execute_result"
    }
   ],
   "source": [
    "    ZahnerPP2x2.setVoltageRangeIndex(0)\n",
    "    #or\n",
    "    ZahnerPP2x2.setVoltageRange(2.5)"
   ]
  },
  {
   "cell_type": "markdown",
   "id": "22e62bab-c3c4-4a29-a3fc-e1b8bf1b3c33",
   "metadata": {},
   "source": [
    "## Set current and voltage limits\n",
    "\n",
    "**The voltage limits are always absolute values and not related to the OCV.** If the limits are exceeded, the potentiostat switches off and the device assumes an error state.\n",
    "\n",
    "<div class=\"alert alert-block alert-danger\">\n",
    "    <b>Danger:</b> Limits are monitored only in primitives. If only the potentiostat is switched on, neither measurement nor limits are monitored.\n",
    "</div>\n",
    "\n",
    "\n",
    "With ZahnerPP2x2.[clearState()](https://doc.zahner.de/zahner_potentiostat/scpi_control/control.html#zahner_potentiostat.scpi_control.control.SCPIDevice.clearState), the error state could be cleared so that primitives can be executed.\n",
    "\n",
    "If an attempt is made to execute primitives in the error state, an error message is displayed.\n",
    "\n",
    "In the following code, current range of $\\pm$ 30 A and voltage are $\\pm$ 5 V are set and enabled."
   ]
  },
  {
   "cell_type": "code",
   "execution_count": 8,
   "id": "1fb841a8-cb8c-42c5-989e-4ee7f9a892ea",
   "metadata": {},
   "outputs": [
    {
     "data": {
      "text/plain": [
       "'ok\\n'"
      ]
     },
     "execution_count": 8,
     "metadata": {},
     "output_type": "execute_result"
    }
   ],
   "source": [
    "    ZahnerPP2x2.setMinimumCurrentGlobal(-30)\n",
    "    ZahnerPP2x2.setMaximumCurrentGlobal(30)\n",
    "    ZahnerPP2x2.setGlobalCurrentCheckEnabled(True)\n",
    "    \n",
    "    ZahnerPP2x2.setMinimumVoltageGlobal(0)\n",
    "    ZahnerPP2x2.setMaximumVoltageGlobal(2.5)\n",
    "    ZahnerPP2x2.setGlobalVoltageCheckEnabled(True)"
   ]
  },
  {
   "cell_type": "markdown",
   "id": "5c1550ed-3b6e-47b3-b6bb-15dc929ca22d",
   "metadata": {},
   "source": [
    "# Starting the live data display\n",
    "\n",
    "With the following command, a plotting window can be opened, in which the measured voltage and current values from the measuring device are displayed live.\n",
    "\n",
    "The function executionInNotebook() is used to check if the execution is taking place in Jupyter notebook or not. As the Jupyter cannot display the live measured data so if the execution take place in Jupyter notebook then the online display will not be executed."
   ]
  },
  {
   "cell_type": "code",
   "execution_count": 9,
   "id": "b6d9205b-0c55-4d30-ba43-833ca7e7b32c",
   "metadata": {},
   "outputs": [],
   "source": [
    "    onlineDisplay = None\n",
    "    if executionInNotebook() == False:\n",
    "        onlineDisplay = OnlineDisplay(ZahnerPP2x2.getDataReceiver())"
   ]
  },
  {
   "cell_type": "markdown",
   "id": "420aa980-7788-4290-ab97-c3cb94e5e58a",
   "metadata": {},
   "source": [
    "# Polarisation at OCV/OCP with change tolerance abort\n",
    "\n",
    "As a first example, a potential jump is output at the open circuit voltage/potential of a supercap, then polarization is performed until the current change is below a defined value.  \n",
    "In the following, OCV is always used, which is the same as OCP.\n",
    "\n",
    "For this measurement, it would be better to measure with the autoranging switched off, since the ranging is slower than the current change during the potential jump.\n",
    "The largest current range is set because a large current will flow during the jump."
   ]
  },
  {
   "cell_type": "code",
   "execution_count": 10,
   "id": "49f7b977-9690-46f5-b070-4d15ad8f4143",
   "metadata": {},
   "outputs": [
    {
     "data": {
      "text/plain": [
       "'ok\\n'"
      ]
     },
     "execution_count": 10,
     "metadata": {},
     "output_type": "execute_result"
    }
   ],
   "source": [
    "    ZahnerPP2x2.setAutorangingEnabled(False)\n",
    "    ZahnerPP2x2.setShuntIndex(1)"
   ]
  },
  {
   "cell_type": "markdown",
   "id": "fb6e4445-07f4-4b85-8aa9-d556c8d83b23",
   "metadata": {},
   "source": [
    "## Setting the measurement on the OCV\n",
    "\n",
    "In order to measure with a defined potential, potentiostatic mode is chosen."
   ]
  },
  {
   "cell_type": "code",
   "execution_count": 11,
   "id": "393e9c10-3da2-473e-a776-35d878d5e49f",
   "metadata": {},
   "outputs": [
    {
     "data": {
      "text/plain": [
       "'ok\\n'"
      ]
     },
     "execution_count": 11,
     "metadata": {},
     "output_type": "execute_result"
    }
   ],
   "source": [
    "    ZahnerPP2x2.setCoupling(COUPLING.POTENTIOSTATIC)"
   ]
  },
  {
   "cell_type": "markdown",
   "id": "f7cd69c9-11b4-45b1-a1e6-ef98b056ab51",
   "metadata": {},
   "source": [
    "The first command [setVoltageRelation()](https://doc.zahner.de/zahner_potentiostat/scpi_control/control.html#zahner_potentiostat.scpi_control.control.SCPIDevice.setVoltageRelation) sets the voltage value, assigned to the [setVoltageValue()](https://doc.zahner.de/zahner_potentiostat/scpi_control/control.html#zahner_potentiostat.scpi_control.control.SCPIDevice.setVoltageValue).\n",
    "\n",
    "The [setVoltageValue()](https://doc.zahner.de/zahner_potentiostat/scpi_control/control.html#zahner_potentiostat.scpi_control.control.SCPIDevice.setVoltageValue) or [setCurrentValue()](https://doc.zahner.de/zahner_potentiostat/scpi_control/control.html#zahner_potentiostat.scpi_control.control.SCPIDevice.setCurrentValue) set the voltage or current values which are applied when the potentiostat is switched on, without starting a primitive. In this state, the voltage or current are not recorded. Only when a primitive is run, recording of voltage or current (as well as autoranging) is carried out.\n",
    "\n",
    "The second command [setVoltageParameterRelation()](https://doc.zahner.de/zahner_potentiostat/scpi_control/control.html#zahner_potentiostat.scpi_control.control.SCPIDevice.setVoltageParameterRelation) set the value defined in the [setVoltageParameter()](https://doc.zahner.de/zahner_potentiostat/scpi_control/control.html#zahner_potentiostat.scpi_control.control.SCPIDevice.setVoltageParameter). This command tells the device the voltage or current parameter needed in potentiostatic or galvanostatic methods.\n",
    "\n",
    "[RELATION.ZERO](https://doc.zahner.de/zahner_potentiostat/scpi_control/control.html#zahner_potentiostat.scpi_control.control.RELATION) defines that absolute voltages are concerned.\n",
    "\n",
    "With the command [measureOCV()](https://doc.zahner.de/zahner_potentiostat/scpi_control/control.html#zahner_potentiostat.scpi_control.control.SCPIDevice.measureOCV), the open circuit voltage is defined, to which the voltage values are refered."
   ]
  },
  {
   "cell_type": "code",
   "execution_count": 12,
   "id": "88119192-7af7-4ebb-9c2d-ba2c853d47d6",
   "metadata": {},
   "outputs": [
    {
     "data": {
      "text/plain": [
       "'ok\\n'"
      ]
     },
     "execution_count": 12,
     "metadata": {},
     "output_type": "execute_result"
    }
   ],
   "source": [
    "    ZahnerPP2x2.setVoltageRelation(RELATION.OCV)\n",
    "    ZahnerPP2x2.setVoltageParameterRelation(\"OCV\")"
   ]
  },
  {
   "cell_type": "markdown",
   "id": "9dac1ae8-e33a-4e0a-b04a-ae992d7b6ac1",
   "metadata": {},
   "source": [
    "## Setting up tolerance limits\n",
    "\n",
    "In the subsection, the tolerance limits are defined. The tolerance limit refers to the complementary quantity (current in the potentiostatic and the voltage in the galvanostatic mode). In the OCV scan, this value also refers to the voltage.\n",
    "\n",
    "The absolute tolerance is defined as a change in amperes or volts per second. To proceed to the next primitive, the value of current or voltage change per second should fall below the defined limit. The relative tolerance is related to the current or voltage value at the start of the primitive. Absolute and relative tolerances are defined as following\n",
    "\n",
    "$Absolute Tolerance = \\frac{X_{n}-X_{n-1}}{t_{n}-t_{n-1}}$\n",
    "\n",
    "$Relative Tolerance = \\frac{Absolute Tolerance}{X_{0}}$\n",
    "\n",
    "In the following example, the absolute tolerance is set to 1 $\\frac{mA}{s}$. Here as the relative tolerance is not needed so it is set to 0.  \n",
    "\n",
    "The tolerance check must be activated so that the primitive can be aborted when the tolerance limits are met."
   ]
  },
  {
   "cell_type": "code",
   "execution_count": 13,
   "id": "49963c59-34e0-4bc5-a8ef-e285ef02906e",
   "metadata": {},
   "outputs": [
    {
     "data": {
      "text/plain": [
       "'ok\\n'"
      ]
     },
     "execution_count": 13,
     "metadata": {},
     "output_type": "execute_result"
    }
   ],
   "source": [
    "    ZahnerPP2x2.setAbsoluteTolerance(0.001)\n",
    "    ZahnerPP2x2.setRelativeTolerance(0.000)\n",
    "    ZahnerPP2x2.setToleranceBreakEnabled(True)"
   ]
  },
  {
   "cell_type": "markdown",
   "id": "6cff384e-b578-41e2-ad68-0f9670aed7f6",
   "metadata": {},
   "source": [
    "A minumum and maximum time can also be defined in regards to the tolerance limits. The minimum time provides the times for which the test object should be polarized. If the voltage or current tolerance is met before the minimum defined time is passed then the polarization is carried out till the minimum time is passed.\n",
    "\n",
    "In the following example, 10 seconds are selected as the minimum time."
   ]
  },
  {
   "cell_type": "code",
   "execution_count": 14,
   "id": "d7a9e4e1-6314-4e06-a406-2409d123f764",
   "metadata": {},
   "outputs": [
    {
     "data": {
      "text/plain": [
       "'ok\\n'"
      ]
     },
     "execution_count": 14,
     "metadata": {},
     "output_type": "execute_result"
    }
   ],
   "source": [
    "    ZahnerPP2x2.setMinimumTimeParameter(10)"
   ]
  },
  {
   "cell_type": "markdown",
   "id": "2b3d4539-847a-4fb3-aa1a-6a4a2dbf46ef",
   "metadata": {},
   "source": [
    "If the tolerance is not reached, the polarization should be terminated after the maximum time at the latest.\n",
    "\n",
    "Here the second input possibility of the time is selected. Either the time is entered in seconds as a floating point number or as a string.  \n",
    "\n",
    "As string, the user has the possibility to enter a time unit (s, min, m or h) as parameter into the method [setMaximumTimeParameter()](https://doc.zahner.de/zahner_potentiostat/scpi_control/control.html#zahner_potentiostat.scpi_control.control.SCPIDevice.setMaximumTimeParameter)."
   ]
  },
  {
   "cell_type": "code",
   "execution_count": 15,
   "id": "a0c95a8f-3c8c-4e31-870d-0aa4e9693ce4",
   "metadata": {},
   "outputs": [
    {
     "data": {
      "text/plain": [
       "'ok\\n'"
      ]
     },
     "execution_count": 15,
     "metadata": {},
     "output_type": "execute_result"
    }
   ],
   "source": [
    "    ZahnerPP2x2.setMaximumTimeParameter(\"1 m\")"
   ]
  },
  {
   "cell_type": "markdown",
   "id": "8d0f0431-44e2-458a-bf85-f48b791d3160",
   "metadata": {},
   "source": [
    "## Execute the primitives\n",
    "\n",
    "Next, the voltage is set, which is outputted when the pot is switched on.\n",
    "\n",
    "The potentiostat is turned on before the primitives, then it stays on after the primitives as long as no global limits are exceeded in the primitive."
   ]
  },
  {
   "cell_type": "code",
   "execution_count": 16,
   "id": "aba8cee6-c950-4f83-b68c-4da00db0022b",
   "metadata": {},
   "outputs": [
    {
     "data": {
      "text/plain": [
       "'ok\\n'"
      ]
     },
     "execution_count": 16,
     "metadata": {},
     "output_type": "execute_result"
    }
   ],
   "source": [
    "    ZahnerPP2x2.setVoltageValue(0)"
   ]
  },
  {
   "cell_type": "markdown",
   "id": "8a157613-af9f-4ba5-ac56-253bcc16872d",
   "metadata": {},
   "source": [
    "Now the open circuit voltage is measured, which is used as a reference for the commands related to the"
   ]
  },
  {
   "cell_type": "code",
   "execution_count": 17,
   "id": "b9de1a52-d512-4485-bab6-e5f19004bbd9",
   "metadata": {},
   "outputs": [
    {
     "name": "stdout",
     "output_type": "stream",
     "text": [
      "open circuit reference voltage: 1.0937139147540091 V\n"
     ]
    }
   ],
   "source": [
    "    print(\"open circuit reference voltage: \" + str(ZahnerPP2x2.measureOCV()) + \" V\")"
   ]
  },
  {
   "cell_type": "code",
   "execution_count": 18,
   "id": "83c425fe-472d-483b-bcb0-1938dcda230d",
   "metadata": {},
   "outputs": [
    {
     "data": {
      "text/plain": [
       "'ok\\n'"
      ]
     },
     "execution_count": 18,
     "metadata": {},
     "output_type": "execute_result"
    }
   ],
   "source": [
    "    ZahnerPP2x2.setPotentiostatEnabled(True)\n",
    "    \n",
    "    ZahnerPP2x2.setVoltageParameter(0.1) #OCV + 0.1\n",
    "    ZahnerPP2x2.measurePolarization()\n",
    "    \n",
    "    ZahnerPP2x2.setVoltageParameter(0) #OCV\n",
    "    ZahnerPP2x2.measurePolarization()\n",
    "    \n",
    "    ZahnerPP2x2.setPotentiostatEnabled(False)"
   ]
  },
  {
   "cell_type": "markdown",
   "id": "2e5afbae-39b4-4d21-81e3-a67075dafb38",
   "metadata": {
    "tags": [],
    "toc-hr-collapsed": true
   },
   "source": [
    "## Plot the data"
   ]
  },
  {
   "cell_type": "code",
   "execution_count": 19,
   "id": "8c885d89-f0da-40c4-afcd-729221807e60",
   "metadata": {},
   "outputs": [
    {
     "data": {
      "image/png": "[encoded data removed]",
      "text/plain": [
       "<Figure size 720x432 with 2 Axes>"
      ]
     },
     "metadata": {
      "needs_background": "light"
     },
     "output_type": "display_data"
    }
   ],
   "source": [
    "    dataReceiver = ZahnerPP2x2.getDataReceiver()\n",
    "    dataManager = DataManager(dataReceiver)\n",
    "    dataManager.plotTIUData()"
   ]
  },
  {
   "cell_type": "markdown",
   "id": "544a5b8c-9316-4cb2-ad58-9b72fb2db21b",
   "metadata": {},
   "source": [
    "## Reset configurations\n",
    "\n",
    "Now the specific example configurations are reset to the default configuration, which are not needed for the next example."
   ]
  },
  {
   "cell_type": "code",
   "execution_count": 20,
   "id": "486600d4-48f6-4eae-8232-4b1dbeef52e6",
   "metadata": {},
   "outputs": [
    {
     "data": {
      "text/plain": [
       "'ok\\n'"
      ]
     },
     "execution_count": 20,
     "metadata": {},
     "output_type": "execute_result"
    }
   ],
   "source": [
    "    ZahnerPP2x2.setToleranceBreakEnabled(False)\n",
    "    ZahnerPP2x2.setVoltageRelation(RELATION.ZERO)\n",
    "    ZahnerPP2x2.setVoltageParameterRelation(RELATION.ZERO)\n",
    "    dataReceiver.deletePoints()\n",
    "    ZahnerPP2x2.setAutorangingEnabled(True)"
   ]
  },
  {
   "cell_type": "markdown",
   "id": "01a27ce5-3658-4d4d-98bd-3e1060836d28",
   "metadata": {},
   "source": [
    "# Polarization - aborted with charge limit\n",
    "\n",
    "The following example shows how polarizing primitives can be aborted on reaching a chargelimit.\n",
    "\n",
    "The settings of the global limits of current and voltage remain to protect the supercapacitor."
   ]
  },
  {
   "cell_type": "markdown",
   "id": "182d14d2-da3c-48c7-b1c1-f0906c80832c",
   "metadata": {},
   "source": [
    "## Setting up the measurement\n",
    "\n",
    "Here galvanostatic measurement is performed, which makes it easier to read the charge from the diagram. However, potentiostatic charge verification would also be possible.\n",
    "\n",
    "Galvanostatic mode automatically selects the correct current range. The previously allowed current ranges are kept here as well."
   ]
  },
  {
   "cell_type": "code",
   "execution_count": 21,
   "id": "928bc870-2f3b-4aaf-99b4-d3dd68125b37",
   "metadata": {},
   "outputs": [
    {
     "data": {
      "text/plain": [
       "'ok\\n'"
      ]
     },
     "execution_count": 21,
     "metadata": {},
     "output_type": "execute_result"
    }
   ],
   "source": [
    "    ZahnerPP2x2.setCoupling(COUPLING.GALVANOSTATIC)"
   ]
  },
  {
   "cell_type": "markdown",
   "id": "15756f9c-ee9d-4553-ac36-c7c3bc9cb1a5",
   "metadata": {},
   "source": [
    "## Setting up the charge conditions\n",
    "\n",
    "The supercapacitor is charged by 100 As and then discharged by 50 As."
   ]
  },
  {
   "cell_type": "code",
   "execution_count": 22,
   "id": "5b7688db-a76c-4fbe-a28d-0e29e4b2f3ff",
   "metadata": {},
   "outputs": [
    {
     "data": {
      "text/plain": [
       "'ok\\n'"
      ]
     },
     "execution_count": 22,
     "metadata": {},
     "output_type": "execute_result"
    }
   ],
   "source": [
    "    ZahnerPP2x2.setMaximumCharge(100)\n",
    "    ZahnerPP2x2.setMinimumCharge(-50)\n",
    "    ZahnerPP2x2.setChargeBreakEnabled(True)"
   ]
  },
  {
   "cell_type": "markdown",
   "id": "2d4d965b-d309-4ca5-8b7f-35d40c3fc718",
   "metadata": {},
   "source": [
    "## Execute the primitives\n",
    "\n",
    "The maximum time is set to 2 minutes.\n",
    "\n",
    "Charging to 100 As with 2 A charging current should take 50 seconds. Similarly discharging to -50 As with -2 A discharging currents should take 25 seconds."
   ]
  },
  {
   "cell_type": "code",
   "execution_count": 23,
   "id": "43652c11-8f3f-41d9-833b-e4fc6acb9916",
   "metadata": {},
   "outputs": [
    {
     "data": {
      "text/plain": [
       "'ok\\n'"
      ]
     },
     "execution_count": 23,
     "metadata": {},
     "output_type": "execute_result"
    }
   ],
   "source": [
    "    ZahnerPP2x2.setMaximumTimeParameter(\"2 m\")"
   ]
  },
  {
   "cell_type": "markdown",
   "id": "ce45fddc-fcc3-43cb-9e54-c0940aeb4281",
   "metadata": {},
   "source": [
    "Set the current to 2 A and measure the polarization to charge the supercapacitor."
   ]
  },
  {
   "cell_type": "code",
   "execution_count": 24,
   "id": "081960ae-ff30-4e01-9bbc-5c8767adb8e5",
   "metadata": {},
   "outputs": [
    {
     "data": {
      "text/plain": [
       "'ok\\n'"
      ]
     },
     "execution_count": 24,
     "metadata": {},
     "output_type": "execute_result"
    }
   ],
   "source": [
    "    ZahnerPP2x2.setCurrentParameter(2)\n",
    "    ZahnerPP2x2.measurePolarization()    "
   ]
  },
  {
   "cell_type": "markdown",
   "id": "2fa5ab0f-1b49-4c15-8aa4-7089967da7d6",
   "metadata": {},
   "source": [
    "Set a discharge current of -2 A. The charging and discharging parameters can be customized individually."
   ]
  },
  {
   "cell_type": "code",
   "execution_count": 25,
   "id": "ffb7b626-1461-4ab5-ba18-e01a54788733",
   "metadata": {},
   "outputs": [
    {
     "data": {
      "text/plain": [
       "'ok\\n'"
      ]
     },
     "execution_count": 25,
     "metadata": {},
     "output_type": "execute_result"
    }
   ],
   "source": [
    "    ZahnerPP2x2.setCurrentParameter(-2)\n",
    "    ZahnerPP2x2.measurePolarization()"
   ]
  },
  {
   "cell_type": "markdown",
   "id": "f4a7710f-1145-4f73-844c-8e9bea820bef",
   "metadata": {},
   "source": [
    "## Plot the data\n",
    "\n",
    "The dataManager measured data can be easily plotted."
   ]
  },
  {
   "cell_type": "code",
   "execution_count": 26,
   "id": "27fdfad9-7b01-4729-90cf-5de188c3a108",
   "metadata": {},
   "outputs": [
    {
     "data": {
      "image/png": "[encoded data removed]",
      "text/plain": [
       "<Figure size 720x432 with 2 Axes>"
      ]
     },
     "metadata": {
      "needs_background": "light"
     },
     "output_type": "display_data"
    }
   ],
   "source": [
    "    dataManager.plotTIUData()"
   ]
  },
  {
   "cell_type": "markdown",
   "id": "1eb579ab-325f-4ae9-8963-0232b3c9a34a",
   "metadata": {},
   "source": [
    "The voltage jump at 50 s (observed at the current polarity change) is due to the internal resistance of the supercapacitor, which is about 4 mΩ."
   ]
  },
  {
   "cell_type": "markdown",
   "id": "2371cd4b-6a13-45b3-aa6a-26804e84f0db",
   "metadata": {},
   "source": [
    "## Reset configurations\n",
    "\n",
    "Again the configurations are reset to the default configuration, which are not needed for the next example."
   ]
  },
  {
   "cell_type": "code",
   "execution_count": 27,
   "id": "3d1fb410-9069-4f3b-be9e-5fc3854e4dae",
   "metadata": {},
   "outputs": [],
   "source": [
    "    ZahnerPP2x2.setChargeBreakEnabled(False)\n",
    "    dataReceiver.deletePoints()"
   ]
  },
  {
   "cell_type": "markdown",
   "id": "ffb9172e-c301-4304-9ba8-e3ead9cd33e4",
   "metadata": {},
   "source": [
    "# Charging and discharging routines\n",
    "\n",
    "The following example shows how to charge and discharge a supercapacitor with the polarization primitive.\n",
    "\n",
    "The settings of the global limits of current and voltage remain to protect the supercapacitor."
   ]
  },
  {
   "cell_type": "markdown",
   "id": "016e632b-dc5c-4a03-9383-4e003d52fe9b",
   "metadata": {},
   "source": [
    "## Setting the measurement\n",
    "\n",
    "The supercapacitor is galvanostatically charged."
   ]
  },
  {
   "cell_type": "code",
   "execution_count": 28,
   "id": "eeddecd5-89da-4c8f-92c5-d443fba4586b",
   "metadata": {},
   "outputs": [
    {
     "data": {
      "text/plain": [
       "'ok\\n'"
      ]
     },
     "execution_count": 28,
     "metadata": {},
     "output_type": "execute_result"
    }
   ],
   "source": [
    "    ZahnerPP2x2.setCoupling(COUPLING.GALVANOSTATIC)"
   ]
  },
  {
   "cell_type": "markdown",
   "id": "487a1155-35a6-40a3-bc2d-1e328f3892df",
   "metadata": {},
   "source": [
    "## Setting the reversal potentials\n",
    "\n",
    "The supercapactor is cycled between 1 V and 2 V.  \n",
    "To realize this, the functional voltage drop is set to 1 V and 2 V for the polarization primitive.\n",
    "\n",
    "Here, at the beginning of the primitive the minimum and maximum values must also be observed.  \n",
    "\n",
    "Depending on test object, the minimum voltage may have to be changed before the first polarization. In the case of supercapacitor, it is assumed that the supercapacitor is completely uncharged therefore a minumum voltage of 1 V is set. The time for which the limit may be exceeded is set to 0.05 seconds to prevent tansients from aborting the measurement.\n",
    "\n",
    "Functional current aborts for potentiostatic primitives also exist."
   ]
  },
  {
   "cell_type": "code",
   "execution_count": 29,
   "id": "31633728-d02f-4999-ba0a-c49315d508fd",
   "metadata": {},
   "outputs": [
    {
     "data": {
      "text/plain": [
       "'ok\\n'"
      ]
     },
     "execution_count": 29,
     "metadata": {},
     "output_type": "execute_result"
    }
   ],
   "source": [
    "    ZahnerPP2x2.setMinimumVoltageParameter(1)\n",
    "    ZahnerPP2x2.setMaximumVoltageParameter(2)\n",
    "    ZahnerPP2x2.setParameterLimitCheckToleranceTime(0.05)\n",
    "    ZahnerPP2x2.setMinMaxVoltageParameterCheckEnabled(True)"
   ]
  },
  {
   "cell_type": "markdown",
   "id": "7092f662-5b5f-46cc-99cd-67269e29b011",
   "metadata": {},
   "source": [
    "Charging the super capacitor with 10 A current will charge the capacitor to 2 V in 20 seconds hence the maximum charging time is set to 30 seconds.\n",
    "\n",
    "For safety, a maximum time must always be specified with this primitive can be switched off."
   ]
  },
  {
   "cell_type": "code",
   "execution_count": 30,
   "id": "cf57a82c-9bc2-4341-b5c9-88422f8469c3",
   "metadata": {},
   "outputs": [
    {
     "data": {
      "text/plain": [
       "'ok\\n'"
      ]
     },
     "execution_count": 30,
     "metadata": {},
     "output_type": "execute_result"
    }
   ],
   "source": [
    "    ZahnerPP2x2.setMaximumTimeParameter(\"30 s\")"
   ]
  },
  {
   "cell_type": "markdown",
   "id": "b064d3a9-e5af-4c5e-a623-3742e5661517",
   "metadata": {},
   "source": [
    "## Execute the primitives"
   ]
  },
  {
   "cell_type": "code",
   "execution_count": 31,
   "id": "eab6777a-dbb6-475d-a65d-f876792410bb",
   "metadata": {},
   "outputs": [
    {
     "data": {
      "text/plain": [
       "'ok\\n'"
      ]
     },
     "execution_count": 31,
     "metadata": {},
     "output_type": "execute_result"
    }
   ],
   "source": [
    "    ZahnerPP2x2.setCurrentParameter(10)\n",
    "    ZahnerPP2x2.measurePolarization()"
   ]
  },
  {
   "cell_type": "markdown",
   "id": "315fac58-c172-46bc-8df0-160e4e86ec6e",
   "metadata": {},
   "source": [
    "After charging the possibly empty electrolytic capacitor, now the lower voltage limit can be adjusted."
   ]
  },
  {
   "cell_type": "code",
   "execution_count": 32,
   "id": "314f036f-cd4c-439e-9f6b-4d3e1aa79adf",
   "metadata": {},
   "outputs": [
    {
     "data": {
      "text/plain": [
       "'ok\\n'"
      ]
     },
     "execution_count": 32,
     "metadata": {},
     "output_type": "execute_result"
    }
   ],
   "source": [
    "    ZahnerPP2x2.setMinimumVoltageParameter(1)"
   ]
  },
  {
   "cell_type": "markdown",
   "id": "bbc365d2-1901-4738-8da9-e2e0d38b7405",
   "metadata": {},
   "source": [
    "Afterwards, two cycles of charging nad discharging are carried out."
   ]
  },
  {
   "cell_type": "code",
   "execution_count": 33,
   "id": "b7b33ab8-b0f2-4581-b21a-a67e4796957b",
   "metadata": {},
   "outputs": [],
   "source": [
    "    cycles = 2\n",
    "    for i in range(cycles):\n",
    "        ZahnerPP2x2.setCurrentParameter(-10)\n",
    "        ZahnerPP2x2.measurePolarization()\n",
    "        ZahnerPP2x2.setCurrentParameter(10)\n",
    "        ZahnerPP2x2.measurePolarization()"
   ]
  },
  {
   "cell_type": "markdown",
   "id": "a7f63e39-d681-4b0f-86f4-91f86c59718f",
   "metadata": {},
   "source": [
    "At the end, the supercapcitor will have a voltage of 1 V."
   ]
  },
  {
   "cell_type": "code",
   "execution_count": 34,
   "id": "c4c4f76f-bf6d-4284-82fc-0a409e5b2bab",
   "metadata": {},
   "outputs": [
    {
     "data": {
      "text/plain": [
       "'ok\\n'"
      ]
     },
     "execution_count": 34,
     "metadata": {},
     "output_type": "execute_result"
    }
   ],
   "source": [
    "    ZahnerPP2x2.setCurrentParameter(-10)\n",
    "    ZahnerPP2x2.measurePolarization()"
   ]
  },
  {
   "cell_type": "markdown",
   "id": "79738234-0679-430a-b34e-876f3027b051",
   "metadata": {},
   "source": [
    "Instead of manually composing the charge or discharge with primitives, user may also use the charge [measureCharge()](https://doc.zahner.de/zahner_potentiostat/scpi_control/control.html#zahner_potentiostat.scpi_control.control.SCPIDevice.measureCharge) and discharge [measureDischarge()](https://doc.zahner.de/zahner_potentiostat/scpi_control/control.html#zahner_potentiostat.scpi_control.control.SCPIDevice.measureDischarge) methods, which have been programmed as an example of how primitives can be composed into more complex methods."
   ]
  },
  {
   "cell_type": "markdown",
   "id": "086adea2-f257-491a-8913-cfe63d52eb85",
   "metadata": {},
   "source": [
    "## Plot the data"
   ]
  },
  {
   "cell_type": "code",
   "execution_count": 35,
   "id": "409e69ba-7ab8-443f-9f59-0fa13efc59af",
   "metadata": {},
   "outputs": [
    {
     "data": {
      "image/png": "[encoded data removed]",
      "text/plain": [
       "<Figure size 720x432 with 2 Axes>"
      ]
     },
     "metadata": {
      "needs_background": "light"
     },
     "output_type": "display_data"
    }
   ],
   "source": [
    "    dataManager.plotTIUData()"
   ]
  },
  {
   "cell_type": "markdown",
   "id": "05422a5a-28ce-4313-9575-bec4a5ec1904",
   "metadata": {},
   "source": [
    "## Reset configurations\n",
    "\n",
    "Now the specific example configurations are reset to the default configuration, which are not needed for the next example."
   ]
  },
  {
   "cell_type": "code",
   "execution_count": 36,
   "id": "cf68d731-98b0-40c0-a5f9-d23a4800dfda",
   "metadata": {},
   "outputs": [],
   "source": [
    "    ZahnerPP2x2.setMinMaxVoltageParameterCheckEnabled(False)\n",
    "    dataReceiver.deletePoints()"
   ]
  },
  {
   "cell_type": "markdown",
   "id": "67f0eb10-f01e-41c8-9788-2222c9d2ca38",
   "metadata": {},
   "source": [
    "# Open circuit voltage scan\n",
    "\n",
    "The following example shows how to record the open circuit voltage scan.\n",
    "\n",
    "In principle, the open circuit voltage scan [measureOCVScan()](https://doc.zahner.de/zahner_potentiostat/scpi_control/control.html#zahner_potentiostat.scpi_control.control.SCPIDevice.measureOCVScan) is same as a galvanostatic polarization with the potentiostat turned off.  \n",
    "The user may set a minimum and maximum voltage at which the primitive can be stopped.  \n",
    "Also a voltage change tolerance as shown in a previous example is possible. For example, to measure OCV until the voltage change has diminshed and the OCV is stable.\n",
    "\n",
    "The settings of the global limits of current and voltage remain to protect the supercapacitor."
   ]
  },
  {
   "cell_type": "markdown",
   "id": "023c9ee2-a660-4600-a2a6-4581a16ea81b",
   "metadata": {},
   "source": [
    "## Setting the measurement\n",
    "\n",
    "Only the maximum time is configured. A change in tolerance or a range limit has already been shown in the previous examples.\n",
    "\n",
    "5 minutes measurement time is set.\n",
    "\n",
    "And the sampling rate is reduced to 1 Hz because there is less dynamic change in the measurement."
   ]
  },
  {
   "cell_type": "code",
   "execution_count": 37,
   "id": "f3a676d6-ea57-46d1-ae94-b3139e9347df",
   "metadata": {},
   "outputs": [
    {
     "data": {
      "text/plain": [
       "'ok\\n'"
      ]
     },
     "execution_count": 37,
     "metadata": {},
     "output_type": "execute_result"
    }
   ],
   "source": [
    "    ZahnerPP2x2.setMaximumTimeParameter(\"2 min\")\n",
    "    ZahnerPP2x2.setSamplingFrequency(1)"
   ]
  },
  {
   "cell_type": "markdown",
   "id": "12aac19b-a98f-4ec6-8c53-ea643c3a2ab3",
   "metadata": {},
   "source": [
    "## Execute the primitive\n",
    "\n",
    "The primitve can simply be started, nothing else needs to be configured."
   ]
  },
  {
   "cell_type": "code",
   "execution_count": 38,
   "id": "687b0b24-5607-460d-949a-d91140df01f0",
   "metadata": {},
   "outputs": [
    {
     "data": {
      "text/plain": [
       "'ok\\n'"
      ]
     },
     "execution_count": 38,
     "metadata": {},
     "output_type": "execute_result"
    }
   ],
   "source": [
    "    ZahnerPP2x2.measureOCVScan()"
   ]
  },
  {
   "cell_type": "markdown",
   "id": "4b066552-646d-45b1-9142-da2f17122179",
   "metadata": {},
   "source": [
    "## Plot the data"
   ]
  },
  {
   "cell_type": "code",
   "execution_count": 39,
   "id": "c7711c4d-b928-4e1b-8d64-83352d717512",
   "metadata": {},
   "outputs": [
    {
     "data": {
      "image/png": "[encoded data removed]",
      "text/plain": [
       "<Figure size 720x432 with 2 Axes>"
      ]
     },
     "metadata": {
      "needs_background": "light"
     },
     "output_type": "display_data"
    }
   ],
   "source": [
    "    dataManager.plotTIUData()"
   ]
  },
  {
   "cell_type": "markdown",
   "id": "f1407063-03f6-44ba-8a75-1321cbbfcff7",
   "metadata": {},
   "source": [
    "# Close the connection\n",
    "\n",
    "Closing the online display when it has been opened and close the connection to the device."
   ]
  },
  {
   "cell_type": "code",
   "execution_count": 40,
   "id": "2fd793b8-c9da-4c16-8297-edec20c1e903",
   "metadata": {},
   "outputs": [
    {
     "name": "stdout",
     "output_type": "stream",
     "text": [
      "finish\n"
     ]
    }
   ],
   "source": [
    "    if onlineDisplay != None:\n",
    "        onlineDisplay.close()\n",
    "    \n",
    "    ZahnerPP2x2.close()\n",
    "    print(\"finish\")"
   ]
  }
 ],
 "metadata": {
  "kernelspec": {
   "display_name": "Python 3",
   "language": "python",
   "name": "python3"
  },
  "language_info": {
   "codemirror_mode": {
    "name": "ipython",
    "version": 3
   },
   "file_extension": ".py",
   "mimetype": "text/x-python",
   "name": "python",
   "nbconvert_exporter": "python",
   "pygments_lexer": "ipython3",
   "version": "3.10.4"
  },
  "toc-autonumbering": true,
  "toc-showmarkdowntxt": false,
  "toc-showtags": false
 },
 "nbformat": 4,
 "nbformat_minor": 5
}
