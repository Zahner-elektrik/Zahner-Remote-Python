{
 "cells": [
  {
   "cell_type": "markdown",
   "id": "5a847666",
   "metadata": {},
   "source": [
    "# Current voltage curves\n",
    "\n",
    "**Pre-requisite: Ramps**\n",
    "\n",
    "In ramps, smallest possible step size (with highest possible averages) is automatically chosen. In this notebook, parameterization of the [measureIEStairs()](https://doc.zahner.de/zahner_potentiostat/scpi_control/control.html#zahner_potentiostat.scpi_control.control.SCPIDevice.measureIEStairs) is discussed. With [measureIEStairs()](https://doc.zahner.de/zahner_potentiostat/scpi_control/control.html#zahner_potentiostat.scpi_control.control.SCPIDevice.measureIEStairs) the step size in a ramp can be defined.\n",
    "\n",
    "In the following examples a step function is used, where depending on the operating mode, potentiostatic or galvanostatic mode, the steps are measured with fixed voltage or current.\n",
    "\n",
    "At each level, only the last step is saved. This function is relatively slow, one step must be **several 100 ms** long.\n",
    "\n",
    "The following curves are therefore called **staircase** for the exact differentiation of the ramps, since both ramps and staircases can be used to measure current voltage curves. \n",
    "\n",
    "**The step may be terminated with the following two possibilities to continue with the next step:**  \n",
    "* Change of the complementary value to the control value, with a minimum time\n",
    "* Maximum time\n",
    "\n",
    "In addition, the functional and safety limits apply again, as explained in Ramps notebook.\n",
    "\n",
    "The measurements carried out in this notebook do not necessarily have to make sense from an electrochemical point of view. The only purpose they serve is to explain the configuration of primitives and their different applications."
   ]
  },
  {
   "cell_type": "code",
   "execution_count": 1,
   "id": "faa098d6",
   "metadata": {},
   "outputs": [
    {
     "name": "stdout",
     "output_type": "stream",
     "text": [
      "COM14:\n",
      "ZAHNER-ELEKTRIK,XPOT2,27000,1.0.1 binary\n",
      "\n",
      "COM13:\n",
      "ZAHNER-ELEKTRIK,XPOT2,27000,1.0.1\n",
      "\n"
     ]
    }
   ],
   "source": [
    "from zahner_potentiostat.scpi_control.searcher import SCPIDeviceSearcher\n",
    "from zahner_potentiostat.scpi_control.serial_interface import SerialCommandInterface, SerialDataInterface\n",
    "from zahner_potentiostat.scpi_control.control import *\n",
    "from zahner_potentiostat.scpi_control.datahandler import DataManager\n",
    "from zahner_potentiostat.scpi_control.datareceiver import TrackTypes\n",
    "from zahner_potentiostat.display.dcplot import DCPlot\n",
    "from zahner_potentiostat.display.onlinedisplay import OnlineDisplay\n",
    "\n",
    "from jupyter_utils import executionInNotebook, notebookCodeToPython\n",
    "if __name__ == '__main__':\n",
    "    deviceSearcher = SCPIDeviceSearcher()\n",
    "    deviceSearcher.searchZahnerDevices()\n",
    "    commandSerial, dataSerial = deviceSearcher.selectDevice()\n",
    "    ZahnerXPOT2 = SCPIDevice(SerialCommandInterface(commandSerial), SerialDataInterface(dataSerial))\n",
    "    ZahnerXPOT2.clearState()"
   ]
  },
  {
   "cell_type": "markdown",
   "id": "f1efe42e",
   "metadata": {},
   "source": [
    "# Setting general parameters\n",
    "First of all, general parameters are set, which will be used in all primitives."
   ]
  },
  {
   "cell_type": "code",
   "execution_count": 2,
   "id": "15a08c20",
   "metadata": {},
   "outputs": [
    {
     "data": {
      "text/plain": [
       "'ok\\n'"
      ]
     },
     "execution_count": 2,
     "metadata": {},
     "output_type": "execute_result"
    }
   ],
   "source": [
    "    ZahnerXPOT2.setRaiseOnErrorEnabled(True)\n",
    "    ZahnerXPOT2.calibrateOffsets()\n",
    "    ZahnerXPOT2.setSamplingFrequency(50)\n",
    "    \n",
    "    ZahnerXPOT2.setAutorangingEnabled(True)\n",
    "    ZahnerXPOT2.setInterpolationEnabled(True)\n",
    "    \n",
    "    ZahnerXPOT2.setShuntIndex(1)\n",
    "    ZahnerXPOT2.setVoltageRangeIndex(0)"
   ]
  },
  {
   "cell_type": "markdown",
   "id": "4d8c4c05",
   "metadata": {},
   "source": [
    "# Starting the live data display\n",
    "\n",
    "With the following command, a plotting window can be opened, in which the measured voltage and current points from the measuring device are displayed live.\n",
    "\n",
    "The function executionInNotebook() is used to check if the execution is taking place in Jupyter notebook or not. As Jupyter cannot display the live measured data so if the execution take place in Jupyter notebook then the online display will not be executed."
   ]
  },
  {
   "cell_type": "code",
   "execution_count": 3,
   "id": "963c6a0e",
   "metadata": {},
   "outputs": [],
   "source": [
    "    onlineDisplay = None\n",
    "    if executionInNotebook() == False:\n",
    "        onlineDisplay = OnlineDisplay(ZahnerXPOT2.getDataReceiver(), displayConfiguration=\"UlogI\")"
   ]
  },
  {
   "cell_type": "markdown",
   "id": "10396607",
   "metadata": {},
   "source": [
    "# Potentiostatic staircase\n",
    "\n",
    "For this example, the forward characteristic is determined on a diode."
   ]
  },
  {
   "cell_type": "markdown",
   "id": "4366427e",
   "metadata": {},
   "source": [
    "## Setting the potentiostatic measurement.\n",
    "\n",
    "In order to measure with a defined voltage, potentiostatic operation is set first."
   ]
  },
  {
   "cell_type": "code",
   "execution_count": 4,
   "id": "95d85715",
   "metadata": {},
   "outputs": [
    {
     "data": {
      "text/plain": [
       "'ok\\n'"
      ]
     },
     "execution_count": 4,
     "metadata": {},
     "output_type": "execute_result"
    }
   ],
   "source": [
    "    ZahnerXPOT2.setCoupling(COUPLING.POTENTIOSTATIC)\n",
    "    ZahnerXPOT2.setVoltageRelation(RELATION.ZERO)\n",
    "    ZahnerXPOT2.setVoltageParameterRelation(RELATION.ZERO)"
   ]
  },
  {
   "cell_type": "markdown",
   "id": "740d5b6d",
   "metadata": {},
   "source": [
    "## Setting the start voltage\n",
    "\n",
    "Like ramps, the stairs start at the actual voltage. Since a diode has no OCV voltage, the measurement is started at 0 V."
   ]
  },
  {
   "cell_type": "code",
   "execution_count": 5,
   "id": "5a25de56",
   "metadata": {},
   "outputs": [
    {
     "data": {
      "text/plain": [
       "'ok\\n'"
      ]
     },
     "execution_count": 5,
     "metadata": {},
     "output_type": "execute_result"
    }
   ],
   "source": [
    "    ZahnerXPOT2.setVoltageValue(0)"
   ]
  },
  {
   "cell_type": "markdown",
   "id": "f5d277db",
   "metadata": {},
   "source": [
    "## Setting the current limits\n",
    "\n",
    "The XPOT2 can handle a maximum of 0.5 amps of current, so the currents for the functional interrupts are set accordingly."
   ]
  },
  {
   "cell_type": "code",
   "execution_count": 6,
   "id": "343efbc1",
   "metadata": {},
   "outputs": [
    {
     "data": {
      "text/plain": [
       "'ok\\n'"
      ]
     },
     "execution_count": 6,
     "metadata": {},
     "output_type": "execute_result"
    }
   ],
   "source": [
    "    ZahnerXPOT2.setMinimumCurrentParameter(-0.5)\n",
    "    ZahnerXPOT2.setMaximumCurrentParameter(+0.5)\n",
    "    ZahnerXPOT2.setMinMaxCurrentParameterCheckEnabled(True)"
   ]
  },
  {
   "cell_type": "markdown",
   "id": "e37ef7b0",
   "metadata": {},
   "source": [
    "## Setting the tolerance limits and maximum time\n",
    "\n",
    "As the diode heats up, the current increases at a constant voltage across the diode, so a change tolerance of 0.1% of the value at the start of the step per second is specified.  \n",
    "The tolerance is explained in detail in the notebook Polarizations.ipynb.\n",
    "\n",
    "The measurement should take a maximum of 10 seconds per step."
   ]
  },
  {
   "cell_type": "code",
   "execution_count": 7,
   "id": "edcdb8f0",
   "metadata": {},
   "outputs": [
    {
     "data": {
      "text/plain": [
       "'ok\\n'"
      ]
     },
     "execution_count": 7,
     "metadata": {},
     "output_type": "execute_result"
    }
   ],
   "source": [
    "    ZahnerXPOT2.setAbsoluteTolerance(0.000)\n",
    "    ZahnerXPOT2.setRelativeTolerance(0.001)\n",
    "    ZahnerXPOT2.setToleranceBreakEnabled(True)\n",
    "    \n",
    "    ZahnerXPOT2.setMinimumTimeParameter(1)\n",
    "    ZahnerXPOT2.setMaximumTimeParameter(10)"
   ]
  },
  {
   "cell_type": "markdown",
   "id": "2c9619ca",
   "metadata": {},
   "source": [
    "## Setting the step size and the target voltage\n",
    "\n",
    "The step size is set to 50 mV. A normal silicon diode with about 0.7 V forward voltage is used, so 2 V is simply set as the target voltage, but this 2 V is never reached, since the functional termination is 0.5 A maximum device current."
   ]
  },
  {
   "cell_type": "code",
   "execution_count": 8,
   "id": "7a7cf3a0",
   "metadata": {},
   "outputs": [
    {
     "data": {
      "text/plain": [
       "'ok\\n'"
      ]
     },
     "execution_count": 8,
     "metadata": {},
     "output_type": "execute_result"
    }
   ],
   "source": [
    "    ZahnerXPOT2.setStepSize(0.01)\n",
    "    ZahnerXPOT2.setVoltageParameter(2)"
   ]
  },
  {
   "cell_type": "markdown",
   "id": "c594da9a",
   "metadata": {},
   "source": [
    "## Execute the primitives\n",
    "\n",
    "The parameterized stair is executed with the method [measureIEStairs()](https://doc.zahner.de/zahner_potentiostat/scpi_control/control.html#zahner_potentiostat.scpi_control.control.SCPIDevice.measureIEStairs)."
   ]
  },
  {
   "cell_type": "code",
   "execution_count": 9,
   "id": "8a078907",
   "metadata": {},
   "outputs": [
    {
     "data": {
      "text/plain": [
       "'ok\\n'"
      ]
     },
     "execution_count": 9,
     "metadata": {},
     "output_type": "execute_result"
    }
   ],
   "source": [
    "    ZahnerXPOT2.measureIEStairs()"
   ]
  },
  {
   "cell_type": "markdown",
   "id": "1860e7ab",
   "metadata": {
    "tags": [],
    "toc-hr-collapsed": true
   },
   "source": [
    "## Plot the data\n",
    "\n",
    "The data also contains the last point at which the program stops, which is above the set limit of 500 mA.\n",
    "\n",
    "Whenever a primitive terminates, the last point is stored."
   ]
  },
  {
   "cell_type": "code",
   "execution_count": 10,
   "id": "bb5ce77d",
   "metadata": {},
   "outputs": [
    {
     "data": {
      "image/png": "[encoded data removed]",
      "text/plain": [
       "<Figure size 720x432 with 2 Axes>"
      ]
     },
     "metadata": {
      "needs_background": "light"
     },
     "output_type": "display_data"
    },
    {
     "data": {
      "text/plain": [
       "<Figure size 432x288 with 0 Axes>"
      ]
     },
     "metadata": {},
     "output_type": "display_data"
    }
   ],
   "source": [
    "    dataReceiver = ZahnerXPOT2.getDataReceiver()\n",
    "    dataManager = DataManager(dataReceiver)\n",
    "    dataManager.plotTIUData()"
   ]
  },
  {
   "cell_type": "markdown",
   "id": "9f72708d",
   "metadata": {},
   "source": [
    "## Plot the current voltage curve\n",
    "\n",
    "There is no standard function for plotting voltage versus current.  \n",
    "This can be done completely independently or with the DCPlot class."
   ]
  },
  {
   "cell_type": "code",
   "execution_count": 11,
   "id": "c8234a22",
   "metadata": {},
   "outputs": [
    {
     "data": {
      "image/png": "[encoded data removed]",
      "text/plain": [
       "<Figure size 720x432 with 1 Axes>"
      ]
     },
     "metadata": {
      "needs_background": "light"
     },
     "output_type": "display_data"
    },
    {
     "data": {
      "text/plain": [
       "<Figure size 432x288 with 0 Axes>"
      ]
     },
     "metadata": {},
     "output_type": "display_data"
    },
    {
     "data": {
      "text/plain": [
       "<Figure size 432x288 with 0 Axes>"
      ]
     },
     "metadata": {},
     "output_type": "display_data"
    }
   ],
   "source": [
    "    completeData = dataReceiver.getCompletePoints() \n",
    "    voltageData = completeData[TrackTypes.VOLTAGE.toString()]\n",
    "    currentData = completeData[TrackTypes.CURRENT.toString()]\n",
    "    \n",
    "    display = DCPlot(\"Current voltage curve\", \"Voltage\", \"V\", [{\"label\": \"Current\", \"unit\": \"A\", \"name\": \"Current\", \"log\": True}],[voltageData, [currentData]])\n",
    "    display.savePlot(\"current_voltage_curve.pdf\")"
   ]
  },
  {
   "cell_type": "markdown",
   "id": "a506ce63",
   "metadata": {},
   "source": [
    "## Reset configurations\n",
    "\n",
    "The configurations, which are not needed for the next example, are reset to the default."
   ]
  },
  {
   "cell_type": "code",
   "execution_count": 12,
   "id": "4a318b33",
   "metadata": {},
   "outputs": [
    {
     "data": {
      "text/plain": [
       "'ok\\n'"
      ]
     },
     "execution_count": 12,
     "metadata": {},
     "output_type": "execute_result"
    }
   ],
   "source": [
    "    dataReceiver.deletePoints()\n",
    "    ZahnerXPOT2.setMinMaxCurrentParameterCheckEnabled(False)"
   ]
  },
  {
   "cell_type": "markdown",
   "id": "9e0930e4",
   "metadata": {},
   "source": [
    "# Galvanostatic staircase\n",
    "\n",
    "For this example, the forward characteristic is determined on a diode.  "
   ]
  },
  {
   "cell_type": "code",
   "execution_count": 13,
   "id": "0077cb68",
   "metadata": {},
   "outputs": [
    {
     "data": {
      "text/plain": [
       "'ok\\n'"
      ]
     },
     "execution_count": 13,
     "metadata": {},
     "output_type": "execute_result"
    }
   ],
   "source": [
    "    ZahnerXPOT2.setCoupling(COUPLING.GALVANOSTATIC)\n",
    "    ZahnerXPOT2.setCurrentValue(0)"
   ]
  },
  {
   "cell_type": "markdown",
   "id": "72f5e7d6",
   "metadata": {},
   "source": [
    "## Setting the tolerance limits and maximum time\n",
    "\n",
    "Now each step should be exactly 1 s long. To prevent an earliers turning off of the potentiostat, the tolerance check is switched off."
   ]
  },
  {
   "cell_type": "code",
   "execution_count": 14,
   "id": "1cdd03fd",
   "metadata": {},
   "outputs": [
    {
     "data": {
      "text/plain": [
       "'ok\\n'"
      ]
     },
     "execution_count": 14,
     "metadata": {},
     "output_type": "execute_result"
    }
   ],
   "source": [
    "    ZahnerXPOT2.setToleranceBreakEnabled(False)\n",
    "    ZahnerXPOT2.setMaximumTimeParameter(1)"
   ]
  },
  {
   "cell_type": "markdown",
   "id": "bcce693c",
   "metadata": {},
   "source": [
    "## Setting the step size and the target voltage\n",
    "\n",
    "The step size is set to 10 mA and the target current to 500 mA."
   ]
  },
  {
   "cell_type": "code",
   "execution_count": 15,
   "id": "65a8803b",
   "metadata": {},
   "outputs": [
    {
     "data": {
      "text/plain": [
       "'ok\\n'"
      ]
     },
     "execution_count": 15,
     "metadata": {},
     "output_type": "execute_result"
    }
   ],
   "source": [
    "    ZahnerXPOT2.setStepSize(0.01)\n",
    "    ZahnerXPOT2.setCurrentParameter(0.5)"
   ]
  },
  {
   "cell_type": "markdown",
   "id": "7ce950a1",
   "metadata": {},
   "source": [
    "## Execute the primitives"
   ]
  },
  {
   "cell_type": "code",
   "execution_count": 16,
   "id": "42f5537c",
   "metadata": {},
   "outputs": [
    {
     "data": {
      "text/plain": [
       "'ok\\n'"
      ]
     },
     "execution_count": 16,
     "metadata": {},
     "output_type": "execute_result"
    }
   ],
   "source": [
    "    ZahnerXPOT2.measureIEStairs()"
   ]
  },
  {
   "cell_type": "markdown",
   "id": "4713792d",
   "metadata": {},
   "source": [
    "## Plot the data"
   ]
  },
  {
   "cell_type": "code",
   "execution_count": 17,
   "id": "ee97332e",
   "metadata": {},
   "outputs": [
    {
     "data": {
      "image/png": "[encoded data removed]",
      "text/plain": [
       "<Figure size 720x432 with 2 Axes>"
      ]
     },
     "metadata": {
      "needs_background": "light"
     },
     "output_type": "display_data"
    },
    {
     "data": {
      "text/plain": [
       "<Figure size 432x288 with 0 Axes>"
      ]
     },
     "metadata": {},
     "output_type": "display_data"
    }
   ],
   "source": [
    "    dataManager.plotTIUData()"
   ]
  },
  {
   "cell_type": "markdown",
   "id": "98101698",
   "metadata": {},
   "source": [
    "# Close the connection\n",
    "\n",
    "Closing the online display when it has been opened and close the connection to the device."
   ]
  },
  {
   "cell_type": "code",
   "execution_count": 18,
   "id": "7bde3ecb",
   "metadata": {},
   "outputs": [
    {
     "name": "stdout",
     "output_type": "stream",
     "text": [
      "finish\n"
     ]
    }
   ],
   "source": [
    "    if onlineDisplay != None:\n",
    "        onlineDisplay.close()\n",
    "    \n",
    "    ZahnerXPOT2.close()\n",
    "    print(\"finish\")"
   ]
  },
  {
   "cell_type": "markdown",
   "id": "11d2795b",
   "metadata": {},
   "source": [
    "# Deployment of the source code\n",
    "\n",
    "**The following instruction is not needed by the user.**\n",
    "\n",
    "It automatically extracts the pure python code from the jupyter notebook to provide it for the user.  \n",
    "Thus the user does not need jupyter itself and does not have to copy the code manually.\n",
    "\n",
    "The code is stored in a notebook-like file with the extension .py."
   ]
  },
  {
   "cell_type": "code",
   "execution_count": 19,
   "id": "36ddaaa6",
   "metadata": {},
   "outputs": [],
   "source": [
    "    if executionInNotebook() == True:\n",
    "        notebookCodeToPython(\"CurrentVoltageStepCurve.ipynb\")"
   ]
  }
 ],
 "metadata": {
  "kernelspec": {
   "display_name": "Python 3",
   "language": "python",
   "name": "python3"
  },
  "language_info": {
   "codemirror_mode": {
    "name": "ipython",
    "version": 3
   },
   "file_extension": ".py",
   "mimetype": "text/x-python",
   "name": "python",
   "nbconvert_exporter": "python",
   "pygments_lexer": "ipython3",
   "version": "3.9.5"
  },
  "toc-autonumbering": false,
  "toc-showmarkdowntxt": false,
  "toc-showtags": false
 },
 "nbformat": 4,
 "nbformat_minor": 5
}
