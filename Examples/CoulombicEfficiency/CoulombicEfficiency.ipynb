{
 "cells": [
  {
   "cell_type": "markdown",
   "id": "40e32ce1",
   "metadata": {},
   "source": [
    "# Coulombic Efficiency\n",
    "\n",
    "This notebook provides guidelines for performing measurements with the Python packet and processessing the measured data with Python.  \n",
    "\n",
    "As an example, a 200 F supercapacitor is charged and discharged with different currents. Afterwards Coulombic efficiency of the supercapacitor is calculated.\n",
    "\n",
    "The charging/discharging measurement is only used as an example and dummy current values and measurement times are used. To get more accurate measurement results, it would be necessary to measure over a longer period of time with smaller current then used in this notebook. "
   ]
  },
  {
   "cell_type": "code",
   "execution_count": 1,
   "id": "ded9ad15",
   "metadata": {},
   "outputs": [
    {
     "name": "stdout",
     "output_type": "stream",
     "text": [
      "COM17:\n",
      "ZAHNER-ELEKTRIK,PP242,35000,1.0.0\n",
      "\n",
      "COM18:\n",
      "ZAHNER-ELEKTRIK,PP242,35000,1.0.0 binary\n",
      "\n"
     ]
    }
   ],
   "source": [
    "from zahner_potentiostat.scpi_control.searcher import SCPIDeviceSearcher\n",
    "from zahner_potentiostat.scpi_control.serial_interface import SerialCommandInterface, SerialDataInterface\n",
    "from zahner_potentiostat.scpi_control.control import *\n",
    "from zahner_potentiostat.scpi_control.datahandler import DataManager\n",
    "from zahner_potentiostat.scpi_control.datareceiver import TrackTypes\n",
    "from zahner_potentiostat.display.onlinedisplay import OnlineDisplay\n",
    "\n",
    "from jupyter_utils import executionInNotebook, notebookCodeToPython\n",
    "import numpy as np\n",
    "import matplotlib.pyplot as plt\n",
    "from matplotlib.ticker import EngFormatter\n",
    "\n",
    "if __name__ == '__main__':\n",
    "    deviceSearcher = SCPIDeviceSearcher()\n",
    "    deviceSearcher.searchZahnerDevices()\n",
    "    commandSerial, dataSerial = deviceSearcher.selectDevice()\n",
    "    \n",
    "    ZahnerPP2x2 = SCPIDevice(SerialCommandInterface(commandSerial), SerialDataInterface(dataSerial))"
   ]
  },
  {
   "cell_type": "markdown",
   "id": "8e86db0b",
   "metadata": {},
   "source": [
    "# Setting general parameters\n",
    "First of all, general parameters (like sampling frequency, autoranging etc) are set and the offsets are calibrated."
   ]
  },
  {
   "cell_type": "code",
   "execution_count": 4,
   "id": "1937ebba",
   "metadata": {},
   "outputs": [
    {
     "data": {
      "text/plain": [
       "'ok\\n'"
      ]
     },
     "execution_count": 4,
     "metadata": {},
     "output_type": "execute_result"
    }
   ],
   "source": [
    "    ZahnerPP2x2.setAutorangingEnabled(True)\n",
    "    ZahnerPP2x2.setInterpolationEnabled(True)\n",
    "    ZahnerPP2x2.setRaiseOnErrorEnabled(True)\n",
    "    \n",
    "    ZahnerPP2x2.setSamplingFrequency(25)\n",
    "    \n",
    "    ZahnerPP2x2.calibrateOffsets()"
   ]
  },
  {
   "cell_type": "markdown",
   "id": "1c08d9a5",
   "metadata": {},
   "source": [
    "# Starting live data display\n",
    "\n",
    "With the following command, a plotting window can be opened, in which the recorded voltage and current data points are displayed, live during the measurment.\n",
    "\n",
    "The function executionInNotebook() verifies if the execution is taking place in Jupyter notebook or not. As Jupyter cannot display the live measured data so if the execution take place in Jupyter notebook then the online display will not be executed."
   ]
  },
  {
   "cell_type": "code",
   "execution_count": 3,
   "id": "0e18646a",
   "metadata": {},
   "outputs": [],
   "source": [
    "    dataReceiver = ZahnerPP2x2.getDataReceiver()\n",
    "    dataManager = DataManager(dataReceiver)\n",
    "    \n",
    "    onlineDisplay = None\n",
    "    if executionInNotebook() == False:\n",
    "        onlineDisplay = OnlineDisplay(dataReceiver)"
   ]
  },
  {
   "cell_type": "markdown",
   "id": "4dcb463f",
   "metadata": {},
   "source": [
    "# Configuring the cycles\n",
    "\n",
    "All required variables are pre-initialized to be used during the cycling.\n",
    "\n",
    "The array currentsInCycles defines the charging/discharging currents. With these currents the cycles will be measured.  \n",
    "\n",
    "The total number of cycles can also be easily modified. The code has been programmed to measure any number of cycles at different currents, or multiple cycles at the same current."
   ]
  },
  {
   "cell_type": "code",
   "execution_count": 4,
   "id": "35b9be12",
   "metadata": {},
   "outputs": [],
   "source": [
    "    timeChargeCycleData = []\n",
    "    timeDischargeCycleData = []\n",
    "    \n",
    "    voltageChargeCycleData = []\n",
    "    voltageDischargeCycleData = []\n",
    "    \n",
    "    currentChargeCycleData = []\n",
    "    currentDischargeCycleData = []\n",
    "    \n",
    "    currentsInCycles = [2.5, 5, 7.5]\n",
    "    cycles = len(currentsInCycles)"
   ]
  },
  {
   "cell_type": "markdown",
   "id": "44027e83",
   "metadata": {},
   "source": [
    "# Measuring the cycles\n",
    "\n",
    "The cycle always starts with a constant voltage of 1 V, which is held for 60 seconds so that all cycles have the same start value. And that the test object is stable.  \n",
    "Then it is charged galvanostatically with the specified current up to a voltage of 2 V. Subsequently, discharging is carried out to discharge the supercapacitor back to voltage of 1 V.\n",
    "\n",
    "After the constant voltage phase, the charging function developed from a polarization is called. Here the maximum time must be estimated so that the stop voltage is reached.  \n",
    "A longer maximum time may also be selected. However, defining a maximum time is a must for safety.\n",
    "\n",
    "After the measurement has been carried out, the measuring points are stored in the variables defined in the previous step and the measuring points are deleted for the discharge phase."
   ]
  },
  {
   "cell_type": "code",
   "execution_count": 5,
   "id": "d1af752e",
   "metadata": {},
   "outputs": [
    {
     "name": "stdout",
     "output_type": "stream",
     "text": [
      "cycle 1 of 3\n",
      "cycle 2 of 3\n",
      "cycle 3 of 3\n"
     ]
    }
   ],
   "source": [
    "    for i in range(cycles):\n",
    "        print(\"cycle {} of {}\".format(i+1, cycles))\n",
    "        \n",
    "        \"\"\"\n",
    "        Constant voltage phase\n",
    "        \"\"\"\n",
    "        ZahnerPP2x2.setCoupling(COUPLING.POTENTIOSTATIC)\n",
    "        ZahnerPP2x2.setVoltageParameterRelation(RELATION.ZERO)\n",
    "        ZahnerPP2x2.setVoltageParameter(1)\n",
    "        ZahnerPP2x2.setMaximumTimeParameter(\"60 s\")\n",
    "        ZahnerPP2x2.measurePolarization()\n",
    "        dataReceiver.deletePoints()\n",
    "\n",
    "        \"\"\"\n",
    "        Charge phase\n",
    "        \"\"\"\n",
    "        ZahnerPP2x2.measureCharge(current = np.abs(currentsInCycles[i]),\n",
    "                                  stopVoltage = 2,\n",
    "                                  maximumTime = \"4 min\")\n",
    "    \n",
    "        completeData = dataReceiver.getCompletePoints() \n",
    "        timeData = completeData[TrackTypes.TIME.toString()]\n",
    "        voltageData = completeData[TrackTypes.VOLTAGE.toString()]\n",
    "        currentData = completeData[TrackTypes.CURRENT.toString()]\n",
    "        dataReceiver.deletePoints()\n",
    "    \n",
    "        timeChargeCycleData.append(timeData)\n",
    "        voltageChargeCycleData.append(voltageData)\n",
    "        currentChargeCycleData.append(currentData)\n",
    "        \n",
    "        \"\"\"\n",
    "        Discharge phase\n",
    "        \"\"\"\n",
    "        ZahnerPP2x2.measureDischarge(current = -1 * np.abs(currentsInCycles[i]),\n",
    "                                     stopVoltage = 1,\n",
    "                                     maximumTime = \"4 min\")\n",
    "    \n",
    "        completeData = dataReceiver.getCompletePoints() \n",
    "        timeData = completeData[TrackTypes.TIME.toString()]\n",
    "        voltageData = completeData[TrackTypes.VOLTAGE.toString()]\n",
    "        currentData = completeData[TrackTypes.CURRENT.toString()]\n",
    "        dataReceiver.deletePoints()\n",
    "    \n",
    "        timeDischargeCycleData.append(timeData)\n",
    "        voltageDischargeCycleData.append(voltageData)\n",
    "        currentDischargeCycleData.append(currentData)"
   ]
  },
  {
   "cell_type": "markdown",
   "id": "3455d8c2",
   "metadata": {},
   "source": [
    "# Close the connection\n",
    "\n",
    "Closing the online display when it has been opened and close the connection to the device."
   ]
  },
  {
   "cell_type": "code",
   "execution_count": 6,
   "id": "c49da86c",
   "metadata": {},
   "outputs": [],
   "source": [
    "    if onlineDisplay != None:\n",
    "        onlineDisplay.close()\n",
    "    \n",
    "    ZahnerPP2x2.close()"
   ]
  },
  {
   "cell_type": "markdown",
   "id": "6b9ed052",
   "metadata": {},
   "source": [
    "# Calculate the total charge\n",
    "\n",
    "After all cycles have been measured, the total charge is calculated for each cycle for the charging and discharging phases.  \n",
    "The charge is determined by integrating the current over time. For the integration of the time discrete values the following formula results:\n",
    "\n",
    "$Q = \\int\\limits_{t_0}^{t} I(t) \\mathrm{d}t = \\sum_{n=0}^{N-1} I_{n}*(t_{n}-t_{n-1})$ with $t_{-1} = 0$\n",
    "\n",
    "The charges for each cycle are stored in the array chargeWhileCharging for the charging phases and chargeWhileDischarging for each discharge phases."
   ]
  },
  {
   "cell_type": "code",
   "execution_count": 7,
   "id": "f270f46a",
   "metadata": {},
   "outputs": [],
   "source": [
    "    chargeWhileCharging = []\n",
    "    chargeWhileDischarging = []\n",
    "        \n",
    "    for cycle in range(cycles):\n",
    "        lastTimeStamp = 0\n",
    "        sumOfChargeInCycle = 0\n",
    "        \n",
    "        for i in range(len(timeChargeCycleData[cycle])):\n",
    "            timeDelta = timeChargeCycleData[cycle][i] - lastTimeStamp\n",
    "            lastTimeStamp = timeChargeCycleData[cycle][i]\n",
    "            charge = currentChargeCycleData[cycle][i] * timeDelta\n",
    "            \n",
    "            sumOfChargeInCycle += charge\n",
    "        \n",
    "        chargeWhileCharging.append(sumOfChargeInCycle)\n",
    "    \n",
    "    for cycle in range(cycles):\n",
    "        lastTimeStamp = 0\n",
    "        sumOfChargeInCycle = 0\n",
    "        \n",
    "        for i in range(len(timeDischargeCycleData[cycle])):\n",
    "            timeDelta = timeDischargeCycleData[cycle][i] - lastTimeStamp\n",
    "            lastTimeStamp = timeDischargeCycleData[cycle][i]\n",
    "            charge = currentDischargeCycleData[cycle][i] * timeDelta\n",
    "            \n",
    "            sumOfChargeInCycle += charge\n",
    "        \n",
    "        chargeWhileDischarging.append(sumOfChargeInCycle)"
   ]
  },
  {
   "cell_type": "markdown",
   "id": "7412105d",
   "metadata": {},
   "source": [
    "# Calculating the coloumbic efficiency\n",
    "\n",
    "The load efficiency is determined using the following formula:\n",
    "\n",
    "Coulombic efficiency  $= \\frac{Q_{Discharge}}{Q_{Charge}}$\n",
    "\n",
    "The efficiencies are stored in an array and output to the console."
   ]
  },
  {
   "cell_type": "code",
   "execution_count": 8,
   "id": "c2ba3870",
   "metadata": {},
   "outputs": [
    {
     "name": "stdout",
     "output_type": "stream",
     "text": [
      "Current: 2.50 A\tEfficiency: 96.27 %\n",
      "Current: 5.00 A\tEfficiency: 96.12 %\n",
      "Current: 7.50 A\tEfficiency: 95.42 %\n"
     ]
    }
   ],
   "source": [
    "    coulombicEfficiency = []\n",
    "    \n",
    "    for cycle in range(cycles):\n",
    "        efficiency = np.abs(chargeWhileDischarging[cycle] / chargeWhileCharging[cycle]) * 100\n",
    "        coulombicEfficiency.append(efficiency)\n",
    "        print(\"Current: {:.2f} A\\tEfficiency: {:.2f} %\".format(currentsInCycles[cycle], efficiency))"
   ]
  },
  {
   "cell_type": "markdown",
   "id": "47d6d56e",
   "metadata": {},
   "source": [
    "# Plotting the voltage curves\n",
    "\n",
    "The next step is to plot the voltage waveforms for the different currents for the charging and discharging phases and a table with the Coulombic efficiencies.  \n",
    "\n",
    "The generated diagram is finally saved as a vector graphic for further use."
   ]
  },
  {
   "cell_type": "code",
   "execution_count": 21,
   "id": "df35ba81",
   "metadata": {},
   "outputs": [
    {
     "data": {
      "image/png": "[encoded data removed]",
      "text/plain": [
       "<Figure size 1008x576 with 3 Axes>"
      ]
     },
     "metadata": {
      "needs_background": "light"
     },
     "output_type": "display_data"
    }
   ],
   "source": [
    "    figure, (chargeAxis, dischargeAxis, table) = plt.subplots(3, 1, figsize=[14,8])\n",
    "    figure.suptitle(\"Cycles\")\n",
    "    \n",
    "    for cycle in range(cycles):\n",
    "        chargeAxis.plot(timeChargeCycleData[cycle], voltageChargeCycleData[cycle], label=\"{:.1f} A current\".format(np.abs(currentsInCycles[cycle])))\n",
    "        dischargeAxis.plot(timeDischargeCycleData[cycle], voltageDischargeCycleData[cycle], label=\"{:.1f} A current\".format(np.abs(currentsInCycles[cycle])))\n",
    "        \n",
    "    chargeAxis.get_shared_x_axes().join(chargeAxis, dischargeAxis)\n",
    "    \n",
    "    chargeAxis.set_ylabel(\"Voltage / V\")\n",
    "    chargeAxis.grid(which=\"both\")\n",
    "    plt.setp(chargeAxis.get_xticklabels(), visible=False)\n",
    "    \n",
    "    dischargeAxis.set_xlabel(\"Time / s\")\n",
    "    dischargeAxis.set_ylabel(\"Voltage / V\")\n",
    "    dischargeAxis.grid(which=\"both\")\n",
    "    \n",
    "    chargeAxis.legend(bbox_to_anchor=(0., 1.02, 1., .102), loc=\"lower left\", ncol=3, mode=\"expand\", borderaxespad=0.0)\n",
    "    \n",
    "    table.axis(\"off\")\n",
    "    collabel = [\"Current of Cycle\", \"Coulombic Efficiency of Cycle\"]\n",
    "    cellText = [[\"{:.1f} A\".format(current) for current in currentsInCycles], [\"{:.2f} %\".format(coulombic) for coulombic in coulombicEfficiency]]\n",
    "    cellText = np.transpose(cellText)\n",
    "    table.table(cellText=cellText, colLabels=collabel, loc=\"center\", rowLoc=\"center\", cellLoc=\"center\")\n",
    "    \n",
    "    plt.show()\n",
    "    \n",
    "    figure.savefig(\"ChargingCycles.svg\")"
   ]
  },
  {
   "cell_type": "markdown",
   "id": "960357fe",
   "metadata": {},
   "source": [
    "# Deployment of the source code\n",
    "\n",
    "**The following instruction is not needed by the user.**\n",
    "\n",
    "It automatically extracts the pure python code from the jupyter notebook to provide it for the user.  \n",
    "Thus the user does not need jupyter itself and does not have to copy the code manually.\n",
    "\n",
    "The code is stored in a notebook-like file with the extension .py."
   ]
  },
  {
   "cell_type": "code",
   "execution_count": 3,
   "id": "70d39628",
   "metadata": {},
   "outputs": [],
   "source": [
    "    if executionInNotebook() == True:\n",
    "        notebookCodeToPython(\"CoulombicEfficiency.ipynb\")"
   ]
  }
 ],
 "metadata": {
  "kernelspec": {
   "display_name": "Python 3",
   "language": "python",
   "name": "python3"
  },
  "language_info": {
   "codemirror_mode": {
    "name": "ipython",
    "version": 3
   },
   "file_extension": ".py",
   "mimetype": "text/x-python",
   "name": "python",
   "nbconvert_exporter": "python",
   "pygments_lexer": "ipython3",
   "version": "3.9.5"
  },
  "toc-autonumbering": false
 },
 "nbformat": 4,
 "nbformat_minor": 5
}
