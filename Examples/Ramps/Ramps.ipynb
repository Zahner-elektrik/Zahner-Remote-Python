{
 "cells": [
  {
   "cell_type": "markdown",
   "id": "7ed4d86b-7307-465a-bd55-9f808b3360d6",
   "metadata": {},
   "source": [
    "# Ramps functional spectrum\n",
    "\n",
    "**Pre-requisite: Polarization**\n",
    "\n",
    "This notebook describes the parameterization for ramps.  \n",
    "\n",
    "The complete documentation of the individual functions can be found on the [API documentation website](https://doc.zahner.de/zahner_potentiostat/index.html).\n",
    "\n",
    "Ramps can be customized with 3 different ways:\n",
    "1. [**measureRampValueInTime()**](https://doc.zahner.de/zahner_potentiostat/scpi_control/control.html#zahner_potentiostat.scpi_control.control.SCPIDevice.measureRampValueInTime)  \n",
    "Ramp from actual value to a target value is executed within a specified time.\n",
    "\n",
    "2. [**measureRampValueInScanRate()**](https://doc.zahner.de/zahner_potentiostat/scpi_control/control.html#zahner_potentiostat.scpi_control.control.SCPIDevice.measureRampValueInScanRate)  \n",
    "Ramp from actual value to a target value is executed with a defined slew (scan) rate.\n",
    "\n",
    "3. [**measureRampScanRateForTime()**](https://doc.zahner.de/zahner_potentiostat/scpi_control/control.html#zahner_potentiostat.scpi_control.control.SCPIDevice.measureRampScanRateForTime)  \n",
    "Ramp is executed at a defined slew rate from actual value for a defined time. The user must pay special attention to the chosen defined time. With unusually long measurement time, the system under investigation may exit the safe operation conditions.\n",
    "\n",
    "In the following, a 18650 lithium-manganese battery (Samsung ICR18650-26JM) with a capacity of 2.6 Ah is used as a test object.  \n",
    "\n",
    "The battery is connected to the power potentiostat as shown in the [power potentiostat manual](https://zahner.de/media-files/downloads_pdf/files/power_potentiostats.pdf#page=20), page 16. This scheme allows a positive open circuit voltage. \n",
    "\n",
    "The measurements carried out in this notebook do not necessarily have to make sense from an electrochemical point of view. The only purpose they serve is to explain the configuration of primitives and their different applications."
   ]
  },
  {
   "cell_type": "code",
   "execution_count": 1,
   "id": "f529771e-9d77-4d4d-8320-3aa2126f2a2e",
   "metadata": {},
   "outputs": [
    {
     "name": "stdout",
     "output_type": "stream",
     "text": [
      "COM10:\n",
      "ZAHNER-ELEKTRIK,PP212,33000,1.0.0 binary\n",
      "\n",
      "COM9:\n",
      "ZAHNER-ELEKTRIK,PP212,33000,1.0.0\n",
      "\n"
     ]
    }
   ],
   "source": [
    "from zahner_potentiostat.scpi_control.searcher import SCPIDeviceSearcher\n",
    "from zahner_potentiostat.scpi_control.serial_interface import SerialCommandInterface, SerialDataInterface\n",
    "from zahner_potentiostat.scpi_control.control import *\n",
    "from zahner_potentiostat.scpi_control.datahandler import DataManager\n",
    "from zahner_potentiostat.scpi_control.datareceiver import TrackTypes\n",
    "from zahner_potentiostat.display.onlinedisplay import OnlineDisplay\n",
    "\n",
    "from jupyter_utils import executionInNotebook\n",
    "if __name__ == '__main__':\n",
    "    deviceSearcher = SCPIDeviceSearcher()\n",
    "    deviceSearcher.searchZahnerDevices()\n",
    "    commandSerial, dataSerial = deviceSearcher.selectDevice()\n",
    "    ZahnerPP2x2 = SCPIDevice(SerialCommandInterface(commandSerial), SerialDataInterface(dataSerial))\n",
    "    ZahnerPP2x2.clearState()"
   ]
  },
  {
   "cell_type": "markdown",
   "id": "5398fb5f-91af-4b4b-811d-ef907981405e",
   "metadata": {},
   "source": [
    "# Setting general parameters\n",
    "First of all, general parameters are set, which will be used in all primitives.\n",
    "\n",
    "A note for users who previously worked with the power potentiostats only via Thales as EPC device:\n",
    "\n",
    "The power potentiostat's voltage ranges varies depending on EPC operation, i.e., the power potentiostat is connected to a Zennium series potentisotat and controlled via Thales, or the power potentiostat is being operated in stand-alone mode and controlled via Zahner-Lab. In Thales operation, the voltage range with index 1 would be necessary for the battery (with voltage of 4.2 V), since range 0 only reaches up to 4 V (for PP242/PP222 and XPOT2)."
   ]
  },
  {
   "cell_type": "code",
   "execution_count": null,
   "id": "3e5510a3-aea3-4dc6-8d8f-eb9d78c8005c",
   "metadata": {},
   "outputs": [],
   "source": [
    "    ZahnerPP2x2.setRaiseOnErrorEnabled(True)\n",
    "    ZahnerPP2x2.calibrateOffsets()\n",
    "    ZahnerPP2x2.setSamplingFrequency(10)\n",
    "    \n",
    "    ZahnerPP2x2.setAutorangingEnabled(True)\n",
    "    ZahnerPP2x2.setInterpolationEnabled(True)\n",
    "    \n",
    "    ZahnerPP2x2.setShuntIndex(1)\n",
    "    ZahnerPP2x2.setVoltageRangeIndex(0)"
   ]
  },
  {
   "cell_type": "markdown",
   "id": "22e62bab-c3c4-4a29-a3fc-e1b8bf1b3c33",
   "metadata": {},
   "source": [
    "# Set current and voltage limits\n",
    "\n",
    "The battery is discharged at 2 C and charged at 1 C.\n",
    "\n",
    "The current and voltage limits are set somewhat more liberally, as the primitives will be immediately aborted (high priority) if they cross the defined limits. If the limits are set to the voltage/current values which we want to measure then as soon as the defined limit will be reached the measurement will be terminated.\n",
    "\n",
    "The voltage limits are always absolute values and **not** relative to the OCV (OCV is the same as OCP).\n",
    "\n",
    "If these limits are exceeded, the potentiostat is switched off and the power potentiostats assumes an error state.\n",
    "\n",
    "With ZahnerPP2x2.[clearState()](https://doc.zahner.de/zahner_potentiostat/scpi_control/control.html#zahner_potentiostat.scpi_control.control.SCPIDevice.clearState) this error state could be cleared again, so that primitives can be executed further. If an attempt is made to execute further primitives in the error state, an error message is displayed."
   ]
  },
  {
   "cell_type": "code",
   "execution_count": null,
   "id": "1fb841a8-cb8c-42c5-989e-4ee7f9a892ea",
   "metadata": {},
   "outputs": [],
   "source": [
    "    ZahnerPP2x2.setMinimumCurrentGlobal(-8)\n",
    "    ZahnerPP2x2.setMaximumCurrentGlobal(4)\n",
    "    ZahnerPP2x2.setGlobalCurrentCheckEnabled(True)\n",
    "    \n",
    "    ZahnerPP2x2.setMinimumVoltageGlobal(3.0)\n",
    "    ZahnerPP2x2.setMaximumVoltageGlobal(4.25)\n",
    "    ZahnerPP2x2.setGlobalVoltageCheckEnabled(True)\n",
    "    \n",
    "    ZahnerPP2x2.setGlobalLimitCheckToleranceTime(1)"
   ]
  },
  {
   "cell_type": "markdown",
   "id": "5c1550ed-3b6e-47b3-b6bb-15dc929ca22d",
   "metadata": {},
   "source": [
    "# Starting the live data display\n",
    "\n",
    "With the following command, a plotting window can be opened, in which the measured voltage and current points from the measuring device are displayed live.\n",
    "\n",
    "\n",
    "The function executionInNotebook() is used to check if the execution is taking place in Jupyter notebook or not. As Jupyter cannot display the live measured data so if the execution take place in Jupyter notebook then the online display will not be executed."
   ]
  },
  {
   "cell_type": "code",
   "execution_count": 4,
   "id": "b6d9205b-0c55-4d30-ba43-833ca7e7b32c",
   "metadata": {},
   "outputs": [],
   "source": [
    "    onlineDisplay = None\n",
    "    if executionInNotebook() == False:\n",
    "        onlineDisplay = OnlineDisplay(ZahnerPP2x2.getDataReceiver())"
   ]
  },
  {
   "cell_type": "markdown",
   "id": "420aa980-7788-4290-ab97-c3cb94e5e58a",
   "metadata": {},
   "source": [
    "# Potentiostatic ramps at the OCV voltage\n",
    "\n",
    "Ramps are started at the OCV and driven to a maximum of 4.2 V or 1 C current, whichever occurs sooner. Subsequently, a ramp is started in the opposite direction, to a minimum of 3.0 V or -2 C current. Afterwards, a ramp is run back to the initial OCV voltage.  "
   ]
  },
  {
   "cell_type": "markdown",
   "id": "fb6e4445-07f4-4b85-8aa9-d556c8d83b23",
   "metadata": {},
   "source": [
    "## Setting the measurement on the OCV\n",
    "\n",
    "In order to measure with a defined potential, potentiostatic operation is set first."
   ]
  },
  {
   "cell_type": "code",
   "execution_count": null,
   "id": "393e9c10-3da2-473e-a776-35d878d5e49f",
   "metadata": {},
   "outputs": [],
   "source": [
    "    ZahnerPP2x2.setCoupling(COUPLING.POTENTIOSTATIC)"
   ]
  },
  {
   "cell_type": "markdown",
   "id": "f7cd69c9-11b4-45b1-a1e6-ef98b056ab51",
   "metadata": {},
   "source": [
    "Then it is necessary to set the voltage parameters. The first command [setVoltageRelation()](https://doc.zahner.de/zahner_potentiostat/scpi_control/control.html#zahner_potentiostat.scpi_control.control.SCPIDevice.setVoltageRelation) sets the voltage value which is defined in [setVoltageValue()](https://doc.zahner.de/zahner_potentiostat/scpi_control/control.html#zahner_potentiostat.scpi_control.control.SCPIDevice.setVoltageValue).  \n",
    "With [setVoltageValue()](https://doc.zahner.de/zahner_potentiostat/scpi_control/control.html#zahner_potentiostat.scpi_control.control.SCPIDevice.setVoltageValue) or [setCurrentValue()](https://doc.zahner.de/zahner_potentiostat/scpi_control/control.html#zahner_potentiostat.scpi_control.control.SCPIDevice.setCurrentValue) the voltage or current values are set, which are to be outputted when the potentiostat is switched on without starting a measuring primitive. In this state, voltage and current are not monitored. Only by the start of a primitives the monitoring of voltage or current, as well as autoranging, takes place.\n",
    "\n",
    "The second command [setVoltageParameterRelation()](https://doc.zahner.de/zahner_potentiostat/scpi_control/control.html#zahner_potentiostat.scpi_control.control.SCPIDevice.setVoltageParameterRelation) sets the parameter defined in [setVoltageParameter()](https://doc.zahner.de/zahner_potentiostat/scpi_control/control.html#zahner_potentiostat.scpi_control.control.SCPIDevice.setVoltageParameter). This command tells the power potentiostat the voltage or current parameter needed in potentiostatic or galvanostatic methods.\n",
    "\n",
    "With [RELATION.ZERO](https://doc.zahner.de/zahner_potentiostat/scpi_control/control.html#zahner_potentiostat.scpi_control.control.RELATION) it is defined that absolute voltages are concerned.\n",
    "\n",
    "In the next subsection, with the command [measureOCV()](https://doc.zahner.de/zahner_potentiostat/scpi_control/control.html#zahner_potentiostat.scpi_control.control.SCPIDevice.measureOCV) the open circuit voltage is defined, to which the voltage values refer."
   ]
  },
  {
   "cell_type": "code",
   "execution_count": null,
   "id": "88119192-7af7-4ebb-9c2d-ba2c853d47d6",
   "metadata": {},
   "outputs": [],
   "source": [
    "    ZahnerPP2x2.setVoltageRelation(RELATION.OCV)\n",
    "    ZahnerPP2x2.setVoltageParameterRelation(RELATION.ZERO)"
   ]
  },
  {
   "cell_type": "markdown",
   "id": "9dac1ae8-e33a-4e0a-b04a-ae992d7b6ac1",
   "metadata": {},
   "source": [
    "## Setting the start voltage\n",
    "\n",
    "Ramps always start at the actual voltage or current value.\n",
    "\n",
    "This means that user must set the actual voltage with [setVoltageValue()](https://doc.zahner.de/zahner_potentiostat/scpi_control/control.html#zahner_potentiostat.scpi_control.control.SCPIDevice.setVoltageValue) or actual current with [setCurrentValue()](https://doc.zahner.de/zahner_potentiostat/scpi_control/control.html#zahner_potentiostat.scpi_control.control.SCPIDevice.setCurrentValue) under the following conditions:\n",
    "* No primitive has been output yet\n",
    "* The coupling is changed from potentiostatic to galvanostatic or vice versa.\n",
    "\n",
    "For example, if potentiostatic [measurePolarization()](https://doc.zahner.de/zahner_potentiostat/scpi_control/control.html#zahner_potentiostat.scpi_control.control.SCPIDevice.measurePolarization) is applied before the potentiostatic ramp, then the potentiostatic ramp starts to apply the polarization voltage after the polarization.\n",
    "\n",
    "If, for example, an OCP scan [measureOCVScan()](https://doc.zahner.de/zahner_potentiostat/scpi_control/control.html#zahner_potentiostat.scpi_control.control.SCPIDevice.measureOCVScan) or a galvanostatic polarization is applied before the ramp instead of the potentiostatic polarization, then the actual voltage must be set with setVoltageValue after the OCP scan or galvanostatic polarization.  \n",
    "\n",
    "The user must explicitly define each and every parameter required for the measurement. Not defining every parameter may result in error.\n",
    "\n",
    "After the ramp measurement, the potentiostat is returned to the same condition as before the measurement. If the potentiostat was on before the measurement, then it remains on after the measurement and vice versa."
   ]
  },
  {
   "cell_type": "code",
   "execution_count": 7,
   "id": "30211151-d46a-4f0e-86c9-b812f06f38be",
   "metadata": {},
   "outputs": [
    {
     "name": "stdout",
     "output_type": "stream",
     "text": [
      "open circuit reference voltage: 3.8172209693263857 V\n"
     ]
    }
   ],
   "source": [
    "    openCircuitVoltage = ZahnerPP2x2.measureOCV()\n",
    "    print(\"open circuit reference voltage: \" + str(openCircuitVoltage) + \" V\")"
   ]
  },
  {
   "cell_type": "markdown",
   "id": "e290bacc-d451-4b92-a46c-49215d2d93e5",
   "metadata": {},
   "source": [
    "Then the command [setVoltageValue(0)](https://doc.zahner.de/zahner_potentiostat/scpi_control/control.html#zahner_potentiostat.scpi_control.control.SCPIDevice.setVoltageValue) sets the OCP value as the starting voltage value. This is similar to the command [setVoltageRelation((RELATION.OCV)](https://doc.zahner.de/zahner_potentiostat/scpi_control/control.html#zahner_potentiostat.scpi_control.control.SCPIDevice.setVoltageRelation), which was used to set OCV as the reference."
   ]
  },
  {
   "cell_type": "code",
   "execution_count": null,
   "id": "01eb3039-bd84-4d05-a90d-37169ca8de68",
   "metadata": {},
   "outputs": [],
   "source": [
    "    ZahnerPP2x2.setVoltageValue(0)"
   ]
  },
  {
   "cell_type": "markdown",
   "id": "98a263c2-a7fc-4675-ba8d-55f9312faf10",
   "metadata": {},
   "source": [
    "## Setting the current limits\n",
    "\n",
    "Since the ramps should only go up to the current limits and then the functional aborts of the primitive should be used, the limits are set first and then the functional aborts are switched on with the methods [setMinMaxCurrentParameterCheckEnabled()](https://doc.zahner.de/zahner_potentiostat/scpi_control/control.html#zahner_potentiostat.scpi_control.control.SCPIDevice.setMinMaxCurrentParameterCheckEnabled)."
   ]
  },
  {
   "cell_type": "code",
   "execution_count": null,
   "id": "7bb0c8cf-4313-4306-b4ac-458ed5f1d63b",
   "metadata": {},
   "outputs": [],
   "source": [
    "    BatteryC = 2.6\n",
    "    ZahnerPP2x2.setMinimumCurrentParameter(-2.0 * BatteryC)\n",
    "    ZahnerPP2x2.setMaximumCurrentParameter(1.0 * BatteryC)\n",
    "    ZahnerPP2x2.setParameterLimitCheckToleranceTime(0.5)\n",
    "    ZahnerPP2x2.setMinMaxCurrentParameterCheckEnabled(True)\n"
   ]
  },
  {
   "cell_type": "markdown",
   "id": "8d0f0431-44e2-458a-bf85-f48b791d3160",
   "metadata": {},
   "source": [
    "## Execute the primitives\n",
    "\n",
    "Since the ramp may take different measurement times depending on how much voltage is needed to reach the current limit, the ramp [measureRampValueInScanRate()](https://doc.zahner.de/zahner_potentiostat/scpi_control/control.html#zahner_potentiostat.scpi_control.control.SCPIDevice.measureRampValueInScanRate) is used so as to keep the slew rate constant.  \n",
    "\n",
    "A scan rate of 10 mV/s is set with the method [setScanRateParameter()](https://doc.zahner.de/zahner_potentiostat/scpi_control/control.html#zahner_potentiostat.scpi_control.control.SCPIDevice.setScanRateParameter)."
   ]
  },
  {
   "cell_type": "code",
   "execution_count": null,
   "id": "aba8cee6-c950-4f83-b68c-4da00db0022b",
   "metadata": {},
   "outputs": [],
   "source": [
    "    ZahnerPP2x2.setScanRateParameter(0.010)"
   ]
  },
  {
   "cell_type": "markdown",
   "id": "8a157613-af9f-4ba5-ac56-253bcc16872d",
   "metadata": {},
   "source": [
    "Now the primitives can be executed.  \n",
    "The ramp is first run in the charging direction to 4.2 V, and then in the discharging direction to 3.0 V."
   ]
  },
  {
   "cell_type": "code",
   "execution_count": null,
   "id": "1c7293c2-77db-4bff-900a-36248954bc00",
   "metadata": {},
   "outputs": [],
   "source": [
    "    ZahnerPP2x2.measureRampValueInScanRate(targetValue = 4.2)\n",
    "    ZahnerPP2x2.measureRampValueInScanRate(targetValue = 3.0)"
   ]
  },
  {
   "cell_type": "markdown",
   "id": "59512565-61d7-4a07-92d4-5e28f719023f",
   "metadata": {},
   "source": [
    "After the ramp up and down, there is an additional ramp back to the OCV where the measurement was started.  \n",
    "For this purpose, the relation of the voltage parameter is changed to OCV voltage with the method [setVoltageParameterRelation(RELATION.OCV)](https://doc.zahner.de/zahner_potentiostat/scpi_control/control.html#zahner_potentiostat.scpi_control.control.SCPIDevice.setVoltageParameterRelation)."
   ]
  },
  {
   "cell_type": "code",
   "execution_count": null,
   "id": "71a72314-6dbd-421c-ace0-8690445db4f5",
   "metadata": {},
   "outputs": [],
   "source": [
    "    ZahnerPP2x2.setVoltageParameterRelation(RELATION.OCV)"
   ]
  },
  {
   "cell_type": "markdown",
   "id": "fcb8cd5a-b1f6-42f1-9153-4e0117a134dc",
   "metadata": {},
   "source": [
    "Here, the ramp is started with the target voltage 0 V, since the target voltage now refers to the open circuit voltage."
   ]
  },
  {
   "cell_type": "code",
   "execution_count": null,
   "id": "bba1b655-76bd-4a6f-bd2f-73e139532a92",
   "metadata": {},
   "outputs": [],
   "source": [
    "    ZahnerPP2x2.measureRampValueInScanRate(targetValue =  0.0)"
   ]
  },
  {
   "cell_type": "markdown",
   "id": "2e5afbae-39b4-4d21-81e3-a67075dafb38",
   "metadata": {
    "tags": [],
    "toc-hr-collapsed": true
   },
   "source": [
    "## Plot the data"
   ]
  },
  {
   "cell_type": "code",
   "execution_count": 14,
   "id": "8c885d89-f0da-40c4-afcd-729221807e60",
   "metadata": {},
   "outputs": [
    {
     "data": {
      "image/png": "[encoded data removed]",
      "text/plain": [
       "<Figure size 720x432 with 2 Axes>"
      ]
     },
     "metadata": {
      "needs_background": "light"
     },
     "output_type": "display_data"
    },
    {
     "data": {
      "text/plain": [
       "<Figure size 432x288 with 0 Axes>"
      ]
     },
     "metadata": {},
     "output_type": "display_data"
    }
   ],
   "source": [
    "    dataReceiver = ZahnerPP2x2.getDataReceiver()\n",
    "    dataManager = DataManager(dataReceiver)\n",
    "    dataManager.plotTIUData()"
   ]
  },
  {
   "cell_type": "markdown",
   "id": "f1407063-03f6-44ba-8a75-1321cbbfcff7",
   "metadata": {},
   "source": [
    "# Close the connection\n",
    "\n",
    "Closing the online display if it has been opened and close the connection to the power potentiostat."
   ]
  },
  {
   "cell_type": "code",
   "execution_count": 15,
   "id": "2fd793b8-c9da-4c16-8297-edec20c1e903",
   "metadata": {},
   "outputs": [
    {
     "name": "stdout",
     "output_type": "stream",
     "text": [
      "finish\n"
     ]
    }
   ],
   "source": [
    "    if onlineDisplay != None:\n",
    "        onlineDisplay.close()\n",
    "    \n",
    "    ZahnerPP2x2.close()\n",
    "    print(\"finish\")"
   ]
  }
 ],
 "metadata": {
  "kernelspec": {
   "display_name": "Python 3",
   "language": "python",
   "name": "python3"
  },
  "language_info": {
   "codemirror_mode": {
    "name": "ipython",
    "version": 3
   },
   "file_extension": ".py",
   "mimetype": "text/x-python",
   "name": "python",
   "nbconvert_exporter": "python",
   "pygments_lexer": "ipython3",
   "version": "3.9.4"
  },
  "toc-autonumbering": true,
  "toc-showmarkdowntxt": false,
  "toc-showtags": false
 },
 "nbformat": 4,
 "nbformat_minor": 5
}
